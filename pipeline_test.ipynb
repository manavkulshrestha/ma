{
 "cells": [
  {
   "cell_type": "markdown",
   "metadata": {},
   "source": [
    "# Pipeline Simulation - Test"
   ]
  },
  {
   "cell_type": "code",
   "execution_count": 11,
   "metadata": {},
   "outputs": [],
   "source": [
    "import numpy as np\n",
    "import torch\n",
    "from feature_detection import Net\n",
    "from torch_geometric.data import Data\n",
    "from torch_geometric.loader import DataLoader\n",
    "from _datasets import ObjectPointCloudDataset"
   ]
  },
  {
   "cell_type": "markdown",
   "metadata": {},
   "source": [
    "## Sanity Check"
   ]
  },
  {
   "cell_type": "markdown",
   "metadata": {},
   "source": [
    "### Label Assignation"
   ]
  },
  {
   "cell_type": "code",
   "execution_count": 12,
   "metadata": {},
   "outputs": [],
   "source": [
    "import os\n",
    "import re\n",
    "\n",
    "names = os.listdir('ycb')\n",
    "\n",
    "labels = {}\n",
    "\n",
    "for name in names:\n",
    "    id = int(name[:3])\n",
    "    \n",
    "    labels[id] = name"
   ]
  },
  {
   "cell_type": "markdown",
   "metadata": {},
   "source": [
    "\n",
    "### Models Instantiation"
   ]
  },
  {
   "cell_type": "code",
   "execution_count": 19,
   "metadata": {},
   "outputs": [],
   "source": [
    "pc = np.load(\"sanity_check_3.npy\")\n",
    "centroid = np.mean(pc, axis=0)\n",
    "pc = pc - centroid\n",
    "normalized = pc / np.std(pc)\n",
    "data = Data(x = torch.tensor(pc, dtype=torch.float)) \n",
    "loader = DataLoader(dataset=[data], batch_size=1)"
   ]
  },
  {
   "cell_type": "code",
   "execution_count": 20,
   "metadata": {},
   "outputs": [
    {
     "name": "stdout",
     "output_type": "stream",
     "text": [
      "model.pt =>  tensor([7], device='cuda:0')  :  007_tuna_fish_can.stl\n",
      "modelv2.pt =>  tensor([62], device='cuda:0')  :  062_dice.stl\n"
     ]
    }
   ],
   "source": [
    "# Load the model from pt files\n",
    "model_paths = [path for path in os.listdir('models')]\n",
    "model_paths = ['model.pt', 'modelv2.pt']\n",
    "models = []\n",
    "for path in model_paths:\n",
    "    model = Net()\n",
    "    model.to('cuda')\n",
    "    model.load_state_dict(torch.load('models/'+path)['model_state_dict'])\n",
    "    model.eval()\n",
    "    models.append(model)\n",
    "\n",
    "# Loading point clouds from nympy file\n",
    "# pc = np.load(\"sanity_check.npy\")\n",
    "# data = Data(x = torch.tensor(pc, dtype=torch.float))\n",
    "# loader = DataLoader(dataset=[data], batch_size=1)\n",
    "\n",
    "for i in range(len(models)):\n",
    "    for d in loader:\n",
    "        d = d.to('cuda')\n",
    "        result = models[i](d)[0].max(1)[1]\n",
    "\n",
    "    print(f\"{model_paths[i]} => \", result, \" : \", labels[result.item()])"
   ]
  },
  {
   "cell_type": "code",
   "execution_count": null,
   "metadata": {},
   "outputs": [],
   "source": [
    "model = Net()\n",
    "model.to('cuda')\n",
    "model.load_state_dict(torch.load('models/modelv2.pt')['model_state_dict'])\n",
    "model.eval()\n",
    "models.append(model)\n",
    "\n",
    "\n",
    "# Loading test dataset frompt files\n",
    "test_dataset = ObjectPointCloudDataset(root = '.', \n",
    "                                    chunk = (87984, 109980), \n",
    "                                    sample_count = 512,\n",
    "                                    output_name = 'testv2'\n",
    "                                    )\n",
    "\n",
    "loader = DataLoader(test_dataset,\n",
    "                    batch_size=1)\n",
    "\n",
    "point_clouds = []\n",
    "label = []\n",
    "\n",
    "test_num = 0\n",
    "for d in loader:\n",
    "    test_num += 1\n",
    "    d = d.to('cuda')\n",
    "    result = models[i](d)[0].max(1)[1]\n",
    "\n",
    "    print(result, \" : \", labels[result.item()], \" | \", d.y)\n",
    "    print(d.x.dtype)\n",
    "\n",
    "    pc = d.x.cpu().numpy()\n",
    "\n",
    "    point_clouds.append(pc)\n",
    "    label.append(labels[result.item()])\n",
    "\n",
    "    if test_num > 9:\n",
    "        break"
   ]
  },
  {
   "cell_type": "code",
   "execution_count": null,
   "metadata": {},
   "outputs": [],
   "source": [
    "for i in range(len(point_clouds)):\n",
    "    np.save(f\"pcs/{label[i]}_{i}\", point_clouds[i])"
   ]
  },
  {
   "cell_type": "code",
   "execution_count": null,
   "metadata": {},
   "outputs": [],
   "source": [
    "files = os.listdir('../dataset/v4/')\n",
    "labels = set()\n",
    "\n",
    "for file in files[:8794]:\n",
    "    labels.add(file[:3])\n",
    "\n",
    "print(labels)\n",
    "\n",
    "test = set()\n",
    "for file in files[8794:]:\n",
    "    test.add(file[:3])\n",
    "\n",
    "print(test)\n"
   ]
  },
  {
   "cell_type": "code",
   "execution_count": null,
   "metadata": {},
   "outputs": [],
   "source": [
    "repetitions = {}\n",
    "\n",
    "for label in files:\n",
    "    try:\n",
    "        repetitions[label[:3]] += 1\n",
    "    except:\n",
    "        repetitions[label[:3]] = 1\n",
    "\n",
    "print(repetitions)"
   ]
  },
  {
   "cell_type": "code",
   "execution_count": null,
   "metadata": {},
   "outputs": [],
   "source": [
    "import open3d as o3d\n",
    "\n",
    "def visualize_point_cloud(pc):\n",
    "    pcd = o3d.geometry.PointCloud()\n",
    "    pcd.points = o3d.utility.Vector3dVector(pc)\n",
    "    o3d.visualization.draw_geometries([pcd])"
   ]
  },
  {
   "cell_type": "code",
   "execution_count": null,
   "metadata": {},
   "outputs": [],
   "source": [
    "# %matplotlib widget\n",
    "import matplotlib.pyplot as plt\n",
    "from mpl_toolkits.mplot3d import Axes3D\n",
    "\n",
    "def plot_point_cloud(mat):\n",
    "    # Create a 3D figure\n",
    "    fig = plt.figure()\n",
    "    ax = fig.add_subplot(projection='3d')\n",
    "\n",
    "    # Define the x, y, z coordinates of the point cloud\n",
    "    x = mat[:, 0]\n",
    "    y = mat[:, 1]\n",
    "    z = mat[:, 2]\n",
    "\n",
    "    # Plot the point cloud data\n",
    "    ax.scatter(x, y, z, s=1)\n",
    "\n",
    "    # Set the axis labels\n",
    "    ax.set_xlabel('X Label')\n",
    "    ax.set_ylabel('Y Label')\n",
    "    ax.set_zlabel('Z Label')\n",
    "\n",
    "    ax.scatter(0, 0, 0, s=10)\n",
    "\n",
    "    ax.set_xlim(-0.3, 0.3)\n",
    "    ax.set_ylim(-0.3, 0.3)\n",
    "    ax.set_zlim(-0.3, 0.3)\n",
    "\n",
    "    # Show the plot\n",
    "    plt.show()\n",
    "    # print\n",
    "\n",
    "plot_point_cloud(pc)\n"
   ]
  },
  {
   "cell_type": "code",
   "execution_count": null,
   "metadata": {},
   "outputs": [],
   "source": []
  }
 ],
 "metadata": {
  "kernelspec": {
   "display_name": "mujoco-venv",
   "language": "python",
   "name": "python3"
  },
  "language_info": {
   "codemirror_mode": {
    "name": "ipython",
    "version": 3
   },
   "file_extension": ".py",
   "mimetype": "text/x-python",
   "name": "python",
   "nbconvert_exporter": "python",
   "pygments_lexer": "ipython3",
   "version": "3.10.13"
  }
 },
 "nbformat": 4,
 "nbformat_minor": 2
}
