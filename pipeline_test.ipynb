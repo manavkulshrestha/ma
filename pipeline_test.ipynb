{
 "cells": [
  {
   "cell_type": "markdown",
   "metadata": {},
   "source": [
    "# Pipeline"
   ]
  },
  {
   "cell_type": "code",
   "execution_count": 1,
   "metadata": {},
   "outputs": [],
   "source": [
    "%load_ext autoreload\n",
    "%autoreload 2"
   ]
  },
  {
   "cell_type": "markdown",
   "metadata": {},
   "source": [
    "## Torch Check"
   ]
  },
  {
   "cell_type": "code",
   "execution_count": 2,
   "metadata": {},
   "outputs": [],
   "source": [
    "import numpy as np\n",
    "import torch\n",
    "from feature_detection import Net\n",
    "from torch_geometric.data import Data\n",
    "from torch_geometric.loader import DataLoader\n",
    "from _datasets import ObjectPointCloudDataset\n",
    "import torch_geometric.transforms as T"
   ]
  },
  {
   "cell_type": "markdown",
   "metadata": {},
   "source": [
    "## Model Instantiation"
   ]
  },
  {
   "cell_type": "code",
   "execution_count": 3,
   "metadata": {},
   "outputs": [],
   "source": [
    "model = Net()\n",
    "model.to('cuda')\n",
    "model.load_state_dict(torch.load('models/modelv9_nom.pt')['model_state_dict'])\n",
    "model.eval()\n",
    "\n",
    "def get_prediction(pc):\n",
    "    # Creating the data object\n",
    "    data = Data(x = torch.tensor(pc, dtype=torch.float32))\n",
    "    data = T.NormalizeFeatures()(data)\n",
    "    loader = DataLoader(dataset=[data], batch_size=1)\n",
    "\n",
    "    # Obtaining the prediction\n",
    "    for d in loader:\n",
    "        d = d.to('cuda')\n",
    "        result = model(d)[0].max(1)[1].cpu().numpy()\n",
    "        last_layer = model(d)[1].cpu().detach().numpy()\n",
    "\n",
    "    return result, last_layer"
   ]
  },
  {
   "cell_type": "markdown",
   "metadata": {},
   "source": [
    "## Label Generation"
   ]
  },
  {
   "cell_type": "code",
   "execution_count": 4,
   "metadata": {},
   "outputs": [],
   "source": [
    "import os\n",
    "\n",
    "names = os.listdir('ycb')\n",
    "\n",
    "labels = {}\n",
    "\n",
    "for name in names:\n",
    "    id = int(name[:3])\n",
    "    labels[id] = name"
   ]
  },
  {
   "cell_type": "markdown",
   "metadata": {},
   "source": [
    "## Mujoco Simulation"
   ]
  },
  {
   "cell_type": "code",
   "execution_count": 5,
   "metadata": {},
   "outputs": [
    {
     "name": "stdout",
     "output_type": "stream",
     "text": [
      "Jupyter environment detected. Enabling Open3D WebVisualizer.\n",
      "[Open3D INFO] WebRTC GUI backend enabled.\n",
      "[Open3D INFO] WebRTCWindowSystem: HTTP handshake server disabled.\n"
     ]
    }
   ],
   "source": [
    "import numpy as np\n",
    "from scipy.spatial.transform import Rotation as R\n",
    "import os\n",
    "from agent import Agent\n",
    "\n",
    "# Mujoco Libraries\n",
    "import mujoco\n",
    "import mujoco.viewer\n",
    "from sensors import Sensors\n",
    "from vectorized_point_cloud import VectorizedPC\n",
    "\n",
    "import open3d as o3d\n"
   ]
  },
  {
   "cell_type": "markdown",
   "metadata": {},
   "source": [
    "### Beginning Simulation on Mujoco"
   ]
  },
  {
   "cell_type": "code",
   "execution_count": 24,
   "metadata": {},
   "outputs": [],
   "source": [
    "def create_sim(xml_str, height, width, rgb=False, depth=False, segmentation=False):\n",
    "    m = mujoco.MjModel.from_xml_string(xml_str)\n",
    "    d = mujoco.MjData(m)\n",
    "\n",
    "    res = [m, d]\n",
    "\n",
    "    if rgb:\n",
    "        r_rgb = mujoco.Renderer(m, height, width)\n",
    "        res.append(r_rgb)\n",
    "\n",
    "    if depth:\n",
    "        r_depth = mujoco.Renderer(m, height, width)\n",
    "        r_depth.enable_depth_rendering()\n",
    "        res.append(r_depth)\n",
    "\n",
    "    if segmentation:\n",
    "        r_seg = mujoco.Renderer(m, height, width)\n",
    "        r_seg.enable_segmentation_rendering()\n",
    "        res.append(r_seg)\n",
    "\n",
    "    return res\n",
    "\n",
    "\n",
    "def new_xml(models, quat):  \n",
    "    assets = \"\"\n",
    "    geoms = \"\"\n",
    "\n",
    "    for model in models:\n",
    "        x = (np.random.random() - 0.5)\n",
    "        y = (np.random.random() - 0.5) \n",
    "        z = (np.random.random() - 0.5) + 0.395\n",
    "        assets += f'<mesh name=\"{model}\"  file=\"ycb/{model}\" scale=\"1 1 1\"/>\\n'\n",
    "        geoms += f'<geom name=\"{model}\" pos=\"{x} {y} {z}\" type=\"mesh\" contype=\"0\" conaffinity=\"0\" group=\"1\" density=\"0\" mesh=\"{model}\" quat=\"{quat[0]} {quat[1]} {quat[2]} {quat[3]}\"/>\\n'\n",
    "\n",
    "    xml =  f\"\"\"\n",
    "    <mujoco>\n",
    "        <visual>\n",
    "            <quality offsamples=\"0\"/>\n",
    "        </visual>\n",
    "        <asset>\n",
    "            {assets}\n",
    "        </asset>\n",
    "        <worldbody>\n",
    "            <light name=\"top\" pos=\"0 0 1\"/>\n",
    "            {geoms}\n",
    "                        \n",
    "            <camera name=\"camera1\" pos=\"0 -1 0.395\" euler=\"90 0 0\" mode=\"fixed\" fovy=\"60\" />\n",
    "            <camera name=\"camera2\" pos=\"1 0 0.395\"  euler=\"90 90 0\" mode=\"fixed\" fovy=\"60\" />\n",
    "            <camera name=\"camera3\" pos=\"0 1 0.395\"  euler=\"90 180 0\" mode=\"fixed\" fovy=\"60\" />\n",
    "            <camera name=\"camera4\" pos=\"-1 0 0.395\" euler=\"90 270 0\" mode=\"fixed\" fovy=\"60\" />\n",
    "\n",
    "            <camera name=\"camera5\" pos=\"0.75 -0.75 0.395\"  euler=\"90 45 0\" mode=\"fixed\" fovy=\"60\" />\n",
    "            <camera name=\"camera6\" pos=\"0.75 0.75 0.395\"   euler=\"90 135 0\" mode=\"fixed\" fovy=\"60\" />\n",
    "            <camera name=\"camera7\" pos=\"-0.75 0.75 0.395\"  euler=\"90 225 0\" mode=\"fixed\" fovy=\"60\" />\n",
    "            <camera name=\"camera8\" pos=\"-0.75 -0.75 0.395\" euler=\"90 315 0\" mode=\"fixed\" fovy=\"60\" />\n",
    "              \n",
    "        </worldbody>\n",
    "    </mujoco>\n",
    "    \"\"\"\n",
    "\n",
    "    return xml\n",
    "\n",
    "def show_pc(pc, colors=None):\n",
    "    pcd = o3d.geometry.PointCloud()\n",
    "    pcd.points = o3d.utility.Vector3dVector(pc)\n",
    "    if colors is not None:\n",
    "        pcd.colors = o3d.utility.Vector3dVector(colors)\n",
    "    o3d.visualization.draw_geometries([pcd])\n",
    "\n",
    "def draw_pc(pc):\n",
    "    pcd = o3d.geometry.PointCloud()\n",
    "    pcd.points = o3d.utility.Vector3dVector(np.vstack((pc, np.array([0.2,0.2,0.2]))))\n",
    "    o3d.visualization.draw_plotly([pcd])\n",
    "\n",
    "def transform_point_cloud(pc_array):\n",
    "    pc_array = pc_array - np.mean(pc_array, axis=0)\n",
    "    pc_array = pc_array[np.random.choice(pc_array.shape[0], 512, replace=True), :]\n",
    "    # pc_array = pc_array / np.max(np.linalg.norm(np.abs(pc_array), axis=1))\n",
    "    return pc_array"
   ]
  },
  {
   "cell_type": "code",
   "execution_count": 7,
   "metadata": {},
   "outputs": [
    {
     "data": {
      "text/plain": [
       "array(['054_softball.stl', '021_bleach_cleanser.stl', '062_dice.stl',\n",
       "       '013_apple.stl', '011_banana.stl', '073-f_lego_duplo.stl',\n",
       "       '026_sponge.stl', '050_medium_clamp.stl', '065-f_cups.stl',\n",
       "       '065-h_cups.stl'], dtype='<U29')"
      ]
     },
     "execution_count": 7,
     "metadata": {},
     "output_type": "execute_result"
    }
   ],
   "source": [
    "# Generate xml for simulation with variables\n",
    "quat = np.random.random(4)\n",
    "quat = quat / np.linalg.norm(quat)\n",
    "models = os.listdir('ycb')\n",
    "stl_models = np.random.choice(models, size=10, replace=False)\n",
    "xml = new_xml(stl_models, quat)\n",
    "\n",
    "# Instantiate the simulation\n",
    "m, d, r_rgb, r_depth, r_seg = create_sim(xml, 480, 640, \n",
    "                                            rgb=True,\n",
    "                                            depth=True, \n",
    "                                            segmentation=True)\n",
    "\n",
    "stl_models"
   ]
  },
  {
   "cell_type": "code",
   "execution_count": 20,
   "metadata": {},
   "outputs": [],
   "source": [
    "# Obtaining extrinsic details of the cameras\n",
    "cam_num = m.cam_user.shape[0]\n",
    "cam_pos = []\n",
    "cam_rot = []\n",
    "for i in range(cam_num):\n",
    "    cam_pos.append(m.cam_pos[i])\n",
    "    cam_rot.append(R.from_quat(m.cam(i).quat).as_matrix())\n",
    "\n",
    "# Instantiating the sensors and the pointcloud\n",
    "sensor = Sensors()\n",
    "point_cloud = VectorizedPC((480, 640), 60)\n",
    "agents = {}\n",
    "\n",
    "# Iterating trhought different time steps - t\n",
    "for i in range(3):\n",
    "    # Making first step for the simulation\n",
    "    # mujoco.mj_step(m, d)\n",
    "\n",
    "    # Get RGB, depth, and segmentation images\n",
    "    depth = [*sensor.get_depth_image_matrices(m, d, r_depth).values()]\n",
    "    segmn = [*sensor.get_segment_image_matrices(m, d, r_seg).values()]\n",
    "\n",
    "    # Obtaining the pointclouds from the depth images segmented\n",
    "    pc = {}\n",
    "    cameras = [0,1,2,3,4,5,6,7]\n",
    "    for i in cameras:\n",
    "        rot = (R.from_matrix(cam_rot[i]).as_euler('xyz', degrees=True)[0] - 180) * -1\n",
    "        rot = R.from_euler('xyz', [rot, 0, 90], degrees=True).as_matrix()\n",
    "        aux = point_cloud.get_segmented_points(depth[i],\n",
    "                                            segmn[i],\n",
    "                                            rot,\n",
    "                                            cam_pos[i])\n",
    "        for key in aux.keys():\n",
    "            if key == -1:\n",
    "                continue\n",
    "            try:\n",
    "                pc[key] = np.concatenate((pc[key], aux[key]))\n",
    "            except:\n",
    "                pc[key] = aux[key]\n",
    "\n",
    "    # Generating the agents\n",
    "    for key in pc.keys():\n",
    "        pos = np.average(pc[key], axis=0)\n",
    "        try:\n",
    "            agents[key].update_pos(pos)\n",
    "        except:\n",
    "            pc_array = transform_point_cloud(pc[key])\n",
    "            prediction = get_prediction(transform_point_cloud(pc_array))\n",
    "            feature_vector = prediction[1].flatten()\n",
    "            name = str(key) + \" | \" + str(prediction[0][0]) + \" | \" + labels[prediction[0][0]]\n",
    "            agents[key] = Agent(name, feature_vector, pos)\n",
    "    \n",
    "    # Moving the objects\n",
    "    point_cloud.move_simple(t=1, func=lambda x: x * 0.001, axis=0, model=m)\n",
    "    # Making first step for the simulation\n",
    "    mujoco.mj_step(m, d)"
   ]
  },
  {
   "cell_type": "code",
   "execution_count": 25,
   "metadata": {},
   "outputs": [
    {
     "name": "stdout",
     "output_type": "stream",
     "text": [
      "Agent: 0 | 54 | 054_softball.stl\n",
      "Shape Feature Vector: (256,)\n",
      "Previous Position: [0.07806575 0.03865367 0.1467287 ]\n",
      "Current Position: [0.07906337 0.03862589 0.14672752]\n",
      "Velocity vector: [ 9.97619512e-04 -2.77739317e-05 -1.17797132e-06]\n",
      "Velocity magnitude: 0.000998006748644752\n",
      "Battery: 0\n",
      "Time Step: 1\n",
      "\n",
      "Agent: 1 | 21 | 021_bleach_cleanser.stl\n",
      "Shape Feature Vector: (256,)\n",
      "Previous Position: [-0.40212645  0.40780688  0.54002174]\n",
      "Current Position: [-0.40118767  0.4078922   0.54014327]\n",
      "Velocity vector: [9.38781544e-04 8.53185036e-05 1.21530349e-04]\n",
      "Velocity magnitude: 0.0009504523453432417\n",
      "Battery: 0\n",
      "Time Step: 1\n",
      "\n",
      "Agent: 3 | 13 | 013_apple.stl\n",
      "Shape Feature Vector: (256,)\n",
      "Previous Position: [ 0.06017333 -0.37881836  0.16556844]\n",
      "Current Position: [ 0.06118806 -0.37880032  0.16557254]\n",
      "Velocity vector: [1.01473028e-03 1.80398859e-05 4.09640244e-06]\n",
      "Velocity magnitude: 0.001014898890867133\n",
      "Battery: 0\n",
      "Time Step: 1\n",
      "\n",
      "Agent: 4 | 11 | 011_banana.stl\n",
      "Shape Feature Vector: (256,)\n",
      "Previous Position: [0.22713565 0.02764786 0.66015747]\n",
      "Current Position: [0.22822406 0.02764274 0.66016759]\n",
      "Velocity vector: [ 1.08840950e-03 -5.12192677e-06  1.01122245e-05]\n",
      "Velocity magnitude: 0.0010884685269256535\n",
      "Battery: 0\n",
      "Time Step: 1\n",
      "\n",
      "Agent: 5 | 73 | 073-g_lego_duplo.stl\n",
      "Shape Feature Vector: (256,)\n",
      "Previous Position: [ 0.08155601 -0.311827    0.78153054]\n",
      "Current Position: [ 0.08250521 -0.31184476  0.78155398]\n",
      "Velocity vector: [ 9.49205068e-04 -1.77536559e-05  2.34413911e-05]\n",
      "Velocity magnitude: 0.0009496604405957233\n",
      "Battery: 0\n",
      "Time Step: 1\n",
      "\n",
      "Agent: 6 | 26 | 026_sponge.stl\n",
      "Shape Feature Vector: (256,)\n",
      "Previous Position: [0.36706442 0.40628236 0.43451708]\n",
      "Current Position: [0.36807813 0.40627096 0.43452155]\n",
      "Velocity vector: [ 1.01370697e-03 -1.14047937e-05  4.46911294e-06]\n",
      "Velocity magnitude: 0.0010137809707831378\n",
      "Battery: 0\n",
      "Time Step: 1\n",
      "\n",
      "Agent: 7 | 50 | 050_medium_clamp.stl\n",
      "Shape Feature Vector: (256,)\n",
      "Previous Position: [0.35437592 0.48627745 0.79487182]\n",
      "Current Position: [0.35541051 0.48632133 0.79466906]\n",
      "Velocity vector: [ 1.03458592e-03  4.38714870e-05 -2.02763370e-04]\n",
      "Velocity magnitude: 0.0010551804174189182\n",
      "Battery: 0\n",
      "Time Step: 1\n",
      "\n",
      "Agent: 8 | 65 | 065-b_cups.stl\n",
      "Shape Feature Vector: (256,)\n",
      "Previous Position: [-0.23319783 -0.17935772 -0.00694448]\n",
      "Current Position: [-0.23223462 -0.17942783 -0.00699921]\n",
      "Velocity vector: [ 9.63213303e-04 -7.01120673e-05 -5.47299335e-05]\n",
      "Velocity magnitude: 0.0009673111883464335\n",
      "Battery: 0\n",
      "Time Step: 1\n",
      "\n",
      "Agent: 9 | 65 | 065-b_cups.stl\n",
      "Shape Feature Vector: (256,)\n",
      "Previous Position: [0.19747561 0.09730721 0.12002765]\n",
      "Current Position: [0.19845713 0.09727179 0.12004172]\n",
      "Velocity vector: [ 9.81522692e-04 -3.54162552e-05  1.40659189e-05]\n",
      "Velocity magnitude: 0.0009822621631080722\n",
      "Battery: 0\n",
      "Time Step: 1\n",
      "\n",
      "Agent: 2 | 62 | 062_dice.stl\n",
      "Shape Feature Vector: (256,)\n",
      "Previous Position: [-0.03299408 -0.2817403  -0.07104335]\n",
      "Current Position: [-0.03198655 -0.28169186 -0.07099173]\n",
      "Velocity vector: [1.00753604e-03 4.84421312e-05 5.16219229e-05]\n",
      "Velocity magnitude: 0.001010019966822884\n",
      "Battery: 0\n",
      "Time Step: 1\n",
      "\n"
     ]
    }
   ],
   "source": [
    "for i in list(pc.keys()):\n",
    "    print(agents[i].to_string())\n",
    "\n",
    "    pc_array = transform_point_cloud(pc[i])\n",
    "    show_pc(pc_array)\n",
    "    \n",
    "    np.save(f'sanity_check_{i}.npy', pc_array)"
   ]
  },
  {
   "cell_type": "code",
   "execution_count": 30,
   "metadata": {},
   "outputs": [],
   "source": [
    "joint_pc = np.empty((0,3))\n",
    "colors = np.empty((0,3))\n",
    "\n",
    "for i in list(pc.keys()):\n",
    "    sample = pc[i][np.random.choice(pc[i].shape[0], 512, replace=True)]\n",
    "    color = np.tile(np.random.rand(3), (512,1))\n",
    "    joint_pc = np.vstack((joint_pc, sample))\n",
    "    colors = np.vstack((colors, color))\n",
    "\n",
    "show_pc(joint_pc, colors)"
   ]
  },
  {
   "cell_type": "markdown",
   "metadata": {},
   "source": [
    "\n",
    "## Models Testing"
   ]
  },
  {
   "cell_type": "code",
   "execution_count": null,
   "metadata": {},
   "outputs": [],
   "source": [
    "# Load the model from pt files\n",
    "model_paths = [path for path in os.listdir('models')]\n",
    "model_paths = ['modelv9.pt', 'modelv9_nom.pt']\n",
    "models = []\n",
    "for path in model_paths:\n",
    "    model = Net()\n",
    "    model.to('cuda')\n",
    "    model.load_state_dict(torch.load('models/'+path)['model_state_dict'])\n",
    "    model.eval()\n",
    "    models.append(model)\n",
    "\n",
    "for i in range(len(models)):\n",
    "    for j in range(len(stl_models)):\n",
    "\n",
    "        # Loading the pointcloud\n",
    "        pc_load = np.load(f\"sanity_check_{j}.npy\")\n",
    "\n",
    "        # Creating the data object\n",
    "        data = Data(x = torch.tensor(pc_load, dtype=torch.float32)) \n",
    "        data = T.NormalizeFeatures()(data)\n",
    "        loader = DataLoader(dataset=[data], batch_size=1)\n",
    "\n",
    "        # Obtaining the prediction\n",
    "        for d in loader:\n",
    "            d = d.to('cuda')\n",
    "            result = models[i](d)[0].max(1)[1]\n",
    "\n",
    "        print(f\"{model_paths[i]} => \", result, \" : \", labels[result.item()])\n",
    "        \n",
    "    print()"
   ]
  },
  {
   "cell_type": "code",
   "execution_count": null,
   "metadata": {},
   "outputs": [],
   "source": [
    "for i in range(len(stl_models)):\n",
    "    # Loading the pointcloud\n",
    "    pc_load = np.load(f\"sanity_check_{i}.npy\")\n",
    "\n",
    "    # Processing the information as in _datasets.py\n",
    "    centroid = np.mean(pc_load, axis=0)\n",
    "    pc_load = pc_load - centroid\n",
    "    normalized = pc_load / np.std(pc_load)\n",
    "\n",
    "    # Creating the data object\n",
    "    data = Data(x = torch.tensor(pc_load, dtype=torch.float32)) \n",
    "    loader = DataLoader(dataset=[data], batch_size=1)\n",
    "    for d in loader:\n",
    "        pc = d.x\n",
    "        draw_pc(pc)"
   ]
  },
  {
   "cell_type": "markdown",
   "metadata": {},
   "source": [
    "### Prediction Debugging"
   ]
  },
  {
   "cell_type": "code",
   "execution_count": null,
   "metadata": {},
   "outputs": [],
   "source": [
    "model = Net()\n",
    "model.to('cuda')\n",
    "model.load_state_dict(torch.load('models/modelv3.pt')['model_state_dict'])\n",
    "model.eval()\n",
    "\n",
    "\n",
    "# Loading test dataset frompt files\n",
    "test_dataset = ObjectPointCloudDataset(root = '.', \n",
    "                                    chunk = (87984, 109980), \n",
    "                                    sample_count = 512,\n",
    "                                    output_name = 'testv9'\n",
    "                                    )\n",
    "\n",
    "loader = DataLoader(test_dataset,\n",
    "                    batch_size=1)\n",
    "\n",
    "point_clouds = []\n",
    "label = []\n",
    "\n",
    "test_num = 0\n",
    "for d in loader:\n",
    "    test_num += 1\n",
    "    d = d.to('cuda')\n",
    "    result = model(d)[0].max(1)[1]\n",
    "\n",
    "    print(result, \" : \", labels[result.item()], \" | \", d.y)\n",
    "    print(d.x.dtype)\n",
    "\n",
    "    pc_cpu = d.x.cpu().numpy()\n",
    "\n",
    "    point_clouds.append(pc_cpu)\n",
    "    label.append(labels[result.item()])\n",
    "\n",
    "    if test_num > 2:\n",
    "        break"
   ]
  },
  {
   "cell_type": "code",
   "execution_count": null,
   "metadata": {},
   "outputs": [],
   "source": [
    "a = np.load('../dataset/v4/003_cracker_box_000003.npy')\n",
    "show_pc(a)"
   ]
  },
  {
   "cell_type": "code",
   "execution_count": null,
   "metadata": {},
   "outputs": [],
   "source": []
  }
 ],
 "metadata": {
  "kernelspec": {
   "display_name": "mujoco-venv",
   "language": "python",
   "name": "python3"
  },
  "language_info": {
   "codemirror_mode": {
    "name": "ipython",
    "version": 3
   },
   "file_extension": ".py",
   "mimetype": "text/x-python",
   "name": "python",
   "nbconvert_exporter": "python",
   "pygments_lexer": "ipython3",
   "version": "3.10.13"
  }
 },
 "nbformat": 4,
 "nbformat_minor": 2
}
