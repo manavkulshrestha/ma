{
 "cells": [
  {
   "cell_type": "markdown",
   "metadata": {},
   "source": [
    "# Pipeline Simulation - Test"
   ]
  },
  {
   "cell_type": "code",
   "execution_count": 1,
   "metadata": {},
   "outputs": [],
   "source": [
    "import numpy as np\n",
    "import torch\n",
    "from feature_detection import Net\n",
    "from torch_geometric.data import Data\n",
    "from torch_geometric.loader import DataLoader\n",
    "from _datasets import ObjectPointCloudDataset"
   ]
  },
  {
   "cell_type": "markdown",
   "metadata": {},
   "source": [
    "## Sanity Check"
   ]
  },
  {
   "cell_type": "markdown",
   "metadata": {},
   "source": [
    "### Label Assignation"
   ]
  },
  {
   "cell_type": "code",
   "execution_count": 2,
   "metadata": {},
   "outputs": [
    {
     "name": "stdout",
     "output_type": "stream",
     "text": [
      "{71: '071_nine_hole_peg_test.stl', 38: '038_padlock.stl', 65: '065-b_cups.stl', 6: '006_mustard_bottle.stl', 73: '073-g_lego_duplo.stl', 32: '032_knife.stl', 4: '004_sugar_box.stl', 9: '009_gelatin_box.stl', 70: '070-b_colored_wood_blocks.stl', 30: '030_fork.stl', 5: '005_tomato_soup_can.stl', 2: '002_master_chef_can.stl', 31: '031_spoon.stl', 33: '033_spatula.stl', 11: '011_banana.stl', 72: '072-c_toy_airplane.stl', 48: '048_hammer.stl', 55: '055_baseball.stl', 8: '008_pudding_box.stl', 62: '062_dice.stl', 40: '040_large_marker.stl', 57: '057_racquetball.stl', 59: '059_chain.stl', 58: '058_golf_ball.stl', 3: '003_cracker_box.stl', 43: '043_phillips_screwdriver.stl', 21: '021_bleach_cleanser.stl', 24: '024_bowl.stl', 63: '063-a_marbles.stl', 50: '050_medium_clamp.stl', 77: '077_rubiks_cube.stl', 26: '026_sponge.stl', 51: '051_large_clamp.stl', 42: '042_adjustable_wrench.stl', 22: '022_windex_bottle.stl', 19: '019_pitcher_base.stl', 17: '017_orange.stl', 29: '029_plate.stl', 54: '054_softball.stl', 12: '012_strawberry.stl', 25: '025_mug.stl', 28: '028_skillet_lid.stl', 36: '036_wood_block.stl', 52: '052_extra_large_clamp.stl', 56: '056_tennis_ball.stl', 10: '010_potted_meat_can.stl', 16: '016_pear.stl', 35: '035_power_drill.stl', 61: '061_foam_brick.stl', 14: '014_lemon.stl', 18: '018_plum.stl', 7: '007_tuna_fish_can.stl', 44: '044_flat_screwdriver.stl', 53: '053_mini_soccer_ball.stl', 13: '013_apple.stl', 37: '037_scissors.stl', 15: '015_peach.stl'}\n"
     ]
    }
   ],
   "source": [
    "import os\n",
    "import re\n",
    "\n",
    "names = os.listdir('ycb')\n",
    "\n",
    "labels = {}\n",
    "\n",
    "for name in names:\n",
    "    id = int(name[:3])\n",
    "    \n",
    "    labels[id] = name"
   ]
  },
  {
   "cell_type": "markdown",
   "metadata": {},
   "source": [
    "\n",
    "### Models Instantiation"
   ]
  },
  {
   "cell_type": "code",
   "execution_count": 16,
   "metadata": {},
   "outputs": [
    {
     "name": "stdout",
     "output_type": "stream",
     "text": [
      "model_64_0.9912256773958902.pt =>  tensor([73], device='cuda:0')  :  073-g_lego_duplo.stl\n",
      "model.pt =>  tensor([73], device='cuda:0')  :  073-g_lego_duplo.stl\n",
      "model_37_0.9930441898527005.pt =>  tensor([73], device='cuda:0')  :  073-g_lego_duplo.stl\n",
      "model_11_0.9883160574649936.pt =>  tensor([73], device='cuda:0')  :  073-g_lego_duplo.stl\n",
      "model_61_0.9912711402073104.pt =>  tensor([73], device='cuda:0')  :  073-g_lego_duplo.stl\n",
      "model_41_0.9903618839789052.pt =>  tensor([73], device='cuda:0')  :  073-g_lego_duplo.stl\n",
      "model_90_0.9905891980360065.pt =>  tensor([73], device='cuda:0')  :  073-g_lego_duplo.stl\n",
      "model_28_0.9886797599563557.pt =>  tensor([73], device='cuda:0')  :  073-g_lego_duplo.stl\n",
      "model_52_0.9916348426986725.pt =>  tensor([73], device='cuda:0')  :  073-g_lego_duplo.stl\n",
      "model_23_0.988907074013457.pt =>  tensor([73], device='cuda:0')  :  073-g_lego_duplo.stl\n",
      "model_96_0.9913166030187307.pt =>  tensor([73], device='cuda:0')  :  073-g_lego_duplo.stl\n",
      "model_88_0.9863156937625023.pt =>  tensor([73], device='cuda:0')  :  073-g_lego_duplo.stl\n",
      "model_33_0.987315875613748.pt =>  tensor([73], device='cuda:0')  :  073-g_lego_duplo.stl\n",
      "model_26_0.99295326422986.pt =>  tensor([73], device='cuda:0')  :  073-g_lego_duplo.stl\n"
     ]
    }
   ],
   "source": [
    "# Load the model from pt files\n",
    "model_paths = [path for path in os.listdir('models')]\n",
    "models = []\n",
    "for path in model_paths:\n",
    "    model = Net()\n",
    "    model.to('cuda')\n",
    "    model.load_state_dict(torch.load('models/'+path)['model_state_dict'])\n",
    "    model.eval()\n",
    "    models.append(model)\n",
    "\n",
    "# Loading point clouds from nympy file\n",
    "pc = np.load(\"sanity_check.npy\")\n",
    "data = Data(x = torch.tensor(pc, dtype=torch.float))\n",
    "loader = DataLoader(dataset=[data], batch_size=1)\n",
    "\n",
    "for i in range(len(models)):\n",
    "    for d in loader:\n",
    "        d = d.to('cuda')\n",
    "        result = models[i](d)[0].max(1)[1]\n",
    "\n",
    "    print(f\"{model_paths[i]} => \", result, \" : \", labels[result.item()])"
   ]
  },
  {
   "cell_type": "code",
   "execution_count": 4,
   "metadata": {},
   "outputs": [
    {
     "name": "stdout",
     "output_type": "stream",
     "text": [
      "Jupyter environment detected. Enabling Open3D WebVisualizer.\n",
      "[Open3D INFO] WebRTC GUI backend enabled.\n",
      "[Open3D INFO] WebRTCWindowSystem: HTTP handshake server disabled.\n"
     ]
    }
   ],
   "source": [
    "import open3d as o3d\n",
    "\n",
    "def visualize_point_cloud(pc):\n",
    "    pcd = o3d.geometry.PointCloud()\n",
    "    pcd.points = o3d.utility.Vector3dVector(pc)\n",
    "    o3d.visualization.draw_geometries([pcd])"
   ]
  },
  {
   "cell_type": "code",
   "execution_count": 10,
   "metadata": {},
   "outputs": [
    {
     "name": "stdout",
     "output_type": "stream",
     "text": [
      "done loading\n",
      "tensor([73], device='cuda:0')  :  073-g_lego_duplo.stl  |  tensor([73], device='cuda:0', dtype=torch.int8)\n",
      "torch.float32\n",
      "tensor([72], device='cuda:0')  :  072-c_toy_airplane.stl  |  tensor([72], device='cuda:0', dtype=torch.int8)\n",
      "torch.float32\n",
      "tensor([62], device='cuda:0')  :  062_dice.stl  |  tensor([62], device='cuda:0', dtype=torch.int8)\n",
      "torch.float32\n",
      "tensor([38], device='cuda:0')  :  038_padlock.stl  |  tensor([38], device='cuda:0', dtype=torch.int8)\n",
      "torch.float32\n",
      "tensor([57], device='cuda:0')  :  057_racquetball.stl  |  tensor([57], device='cuda:0', dtype=torch.int8)\n",
      "torch.float32\n",
      "tensor([65], device='cuda:0')  :  065-b_cups.stl  |  tensor([65], device='cuda:0', dtype=torch.int8)\n",
      "torch.float32\n",
      "tensor([73], device='cuda:0')  :  073-g_lego_duplo.stl  |  tensor([73], device='cuda:0', dtype=torch.int8)\n",
      "torch.float32\n",
      "tensor([38], device='cuda:0')  :  038_padlock.stl  |  tensor([38], device='cuda:0', dtype=torch.int8)\n",
      "torch.float32\n",
      "tensor([63], device='cuda:0')  :  063-a_marbles.stl  |  tensor([63], device='cuda:0', dtype=torch.int8)\n",
      "torch.float32\n",
      "tensor([65], device='cuda:0')  :  065-b_cups.stl  |  tensor([65], device='cuda:0', dtype=torch.int8)\n",
      "torch.float32\n"
     ]
    }
   ],
   "source": [
    "model = Net()\n",
    "model.to('cuda')\n",
    "model.load_state_dict(torch.load('models/model.pt')['model_state_dict'])\n",
    "model.eval()\n",
    "models.append(model)\n",
    "\n",
    "\n",
    "# Loading test dataset frompt files\n",
    "test_dataset = ObjectPointCloudDataset(root = '.', \n",
    "                                    chunk = (87984, 109980), \n",
    "                                    sample_count = 512,\n",
    "                                    output_name = 'test'\n",
    "                                    )\n",
    "\n",
    "loader = DataLoader(test_dataset,\n",
    "                    batch_size=1)\n",
    "\n",
    "point_clouds = []\n",
    "label = []\n",
    "\n",
    "test_num = 0\n",
    "for d in loader:\n",
    "    test_num += 1\n",
    "    d = d.to('cuda')\n",
    "    result = models[i](d)[0].max(1)[1]\n",
    "\n",
    "    print(result, \" : \", labels[result.item()], \" | \", d.y)\n",
    "    print(d.x.dtype)\n",
    "\n",
    "    pc = d.x.cpu().numpy()\n",
    "\n",
    "    point_clouds.append(pc)\n",
    "    label.append(labels[result.item()])\n",
    "\n",
    "    if test_num > 9:\n",
    "        break"
   ]
  },
  {
   "cell_type": "code",
   "execution_count": 7,
   "metadata": {},
   "outputs": [],
   "source": [
    "for i in range(len(point_clouds)):\n",
    "    np.save(f\"pcs/{label[i]}_{i}\", point_clouds[i])"
   ]
  },
  {
   "cell_type": "code",
   "execution_count": null,
   "metadata": {},
   "outputs": [],
   "source": [
    "files = os.listdir('../dataset/v4/')\n",
    "labels = set()\n",
    "\n",
    "for file in files[:8794]:\n",
    "    labels.add(file[:3])\n",
    "\n",
    "print(labels)\n",
    "\n",
    "test = set()\n",
    "for file in files[8794:]:\n",
    "    test.add(file[:3])\n",
    "\n",
    "print(test)\n"
   ]
  },
  {
   "cell_type": "code",
   "execution_count": null,
   "metadata": {},
   "outputs": [],
   "source": [
    "repetitions = {}\n",
    "\n",
    "for label in files:\n",
    "    try:\n",
    "        repetitions[label[:3]] += 1\n",
    "    except:\n",
    "        repetitions[label[:3]] = 1\n",
    "\n",
    "print(repetitions)"
   ]
  },
  {
   "cell_type": "code",
   "execution_count": null,
   "metadata": {},
   "outputs": [],
   "source": [
    "# %matplotlib widget\n",
    "import matplotlib.pyplot as plt\n",
    "from mpl_toolkits.mplot3d import Axes3D\n",
    "\n",
    "def plot_point_cloud(mat):\n",
    "    # Create a 3D figure\n",
    "    fig = plt.figure()\n",
    "    ax = fig.add_subplot(projection='3d')\n",
    "\n",
    "    # Define the x, y, z coordinates of the point cloud\n",
    "    x = mat[:, 0]\n",
    "    y = mat[:, 1]\n",
    "    z = mat[:, 2]\n",
    "\n",
    "    # Plot the point cloud data\n",
    "    ax.scatter(x, y, z, s=1)\n",
    "\n",
    "    # Set the axis labels\n",
    "    ax.set_xlabel('X Label')\n",
    "    ax.set_ylabel('Y Label')\n",
    "    ax.set_zlabel('Z Label')\n",
    "\n",
    "    ax.scatter(0, 0, 0, s=10)\n",
    "\n",
    "    ax.set_xlim(-0.3, 0.3)\n",
    "    ax.set_ylim(-0.3, 0.3)\n",
    "    ax.set_zlim(-0.3, 0.3)\n",
    "\n",
    "    # Show the plot\n",
    "    plt.show()\n",
    "    # print\n",
    "\n",
    "plot_point_cloud(pc)\n"
   ]
  }
 ],
 "metadata": {
  "kernelspec": {
   "display_name": "mujoco-venv",
   "language": "python",
   "name": "python3"
  },
  "language_info": {
   "codemirror_mode": {
    "name": "ipython",
    "version": 3
   },
   "file_extension": ".py",
   "mimetype": "text/x-python",
   "name": "python",
   "nbconvert_exporter": "python",
   "pygments_lexer": "ipython3",
   "version": "3.10.13"
  }
 },
 "nbformat": 4,
 "nbformat_minor": 2
}
