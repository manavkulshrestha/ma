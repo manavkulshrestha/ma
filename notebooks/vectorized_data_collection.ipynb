{
 "cells": [
  {
   "cell_type": "markdown",
   "metadata": {},
   "source": [
    "# Dataset Generator"
   ]
  },
  {
   "cell_type": "code",
   "execution_count": 2,
   "metadata": {},
   "outputs": [],
   "source": [
    "%load_ext autoreload\n",
    "%autoreload 2\n",
    "import os\n",
    "import random\n",
    "from scipy.spatial.transform import Rotation as R\n",
    "import mujoco\n",
    "import mujoco.renderer\n",
    "import numpy as np\n",
    "from sensors import Sensors\n",
    "from vectorized_point_cloud import VectorizedPC"
   ]
  },
  {
   "cell_type": "markdown",
   "metadata": {},
   "source": [
    "Loading the model names listed in a given directory."
   ]
  },
  {
   "cell_type": "code",
   "execution_count": 3,
   "metadata": {},
   "outputs": [],
   "source": [
    "models_paths = os.listdir('ycb')\n",
    "\n",
    "# models = [models_paths[i] for i in range(3)]\n",
    "\n",
    "models = models_paths"
   ]
  },
  {
   "cell_type": "markdown",
   "metadata": {},
   "source": [
    "## Functionality Methods"
   ]
  },
  {
   "cell_type": "code",
   "execution_count": 4,
   "metadata": {},
   "outputs": [],
   "source": [
    "def new_xml(model, quat):\n",
    "    xml =  f\"\"\"\n",
    "    <mujoco>\n",
    "        <asset>\n",
    "            <mesh name=\"{model}\" file=\"ycb/{model}\" scale=\"1 1 1\"/>\n",
    "        </asset>\n",
    "        <worldbody>\n",
    "            <light name=\"top\" pos=\"0 0 1\"/>\n",
    "            <geom pos=\"0 0 0\" type=\"mesh\" contype=\"0\" conaffinity=\"0\" group=\"1\" density=\"0\" mesh=\"{model}\"\n",
    "            quat=\"{quat[0]} {quat[1]} {quat[2]} {quat[3]}\"\n",
    "            />\n",
    "                        \n",
    "            <camera name=\"camera1\" pos=\"-1 0.1 0\" xyaxes=\"0 -0.5 0 -0.01 0 2\" mode=\"fixed\" fovy=\"60\" />\n",
    "            <camera name=\"camera2\" pos=\"1 0.1 0\" xyaxes=\"0 0.5 0 0.01 0 2\" mode=\"fixed\" fovy=\"60\" />\n",
    "            <camera name=\"camera3\" pos=\"1 0.3 0.5\" xyaxes=\"0 0.5 0 0.01 0 2\" mode=\"fixed\" fovy=\"60\" />\n",
    "            <camera name=\"camera4\" pos=\"1 0.1 -0.2\" xyaxes=\"0 0.5 0 0.01 0 2\" mode=\"fixed\" fovy=\"60\" />\n",
    "              \n",
    "        </worldbody>\n",
    "    </mujoco>\n",
    "    \"\"\"\n",
    "\n",
    "    return xml"
   ]
  },
  {
   "cell_type": "code",
   "execution_count": 5,
   "metadata": {},
   "outputs": [],
   "source": [
    "def get_elements_with_probability(arr=[0,1,2,3]):\n",
    "    # Define the probabilities\n",
    "    probabilities = [0.7, 0.25, 0.05]\n",
    "\n",
    "    # Determine the number of elements to select based on probabilities\n",
    "    num_elements = random.choices([1, 2, 3], probabilities)[0]\n",
    "\n",
    "    # Shuffle the array to randomize the selection\n",
    "    random.shuffle(arr)\n",
    "\n",
    "    # Return a set of the selected elements\n",
    "    return arr[:num_elements]"
   ]
  },
  {
   "cell_type": "markdown",
   "metadata": {},
   "source": [
    "## Main Generation Loop"
   ]
  },
  {
   "cell_type": "code",
   "execution_count": 7,
   "metadata": {},
   "outputs": [],
   "source": [
    "# Dataset Generator Configuration\n",
    "dataset_size = 100_000\n",
    "\n",
    "sensors = Sensors()\n",
    "\n",
    "pc = VectorizedPC((480, 640), 60)\n",
    "\n",
    "quat = np.random.random(4)\n",
    "quat = quat / np.linalg.norm(quat)\n",
    "m = mujoco.MjModel.from_xml_string(new_xml(models[0], quat))\n",
    "\n",
    "cameras = [0,1,3]\n",
    "\n",
    "rot_matrices = []\n",
    "positions = []\n",
    "for i in cameras:\n",
    "    rot_matrices.append(R.from_quat(m.cam(i).quat).as_matrix())\n",
    "    positions.append(m.cam_pos[i])\n",
    "\n",
    "for model_name in models:\n",
    "    name = model_name.split('.')[0]\n",
    "    for n in range(dataset_size // len(models)):\n",
    "        quat = np.random.random(4)\n",
    "        quat = quat / np.linalg.norm(quat)\n",
    "\n",
    "        # Generating new xml\n",
    "        xml = new_xml(model_name, quat)\n",
    "\n",
    "        # Create the model and data objects.\n",
    "        m = mujoco.MjModel.from_xml_string(xml)\n",
    "        d = mujoco.MjData(m)\n",
    "\n",
    "        # Make renderer, render and show the pixels\n",
    "        depth = mujoco.Renderer(m,480, 640); depth.enable_depth_rendering()\n",
    "        # sgmnt = mujoco.Renderer(m,480, 640); sgmnt.enable_segmentation_rendering()\n",
    "\n",
    "        # Doing initial loading\n",
    "        mujoco.mj_step(m, d)\n",
    "\n",
    "        # cameras = get_elements_with_probability([0,1,2,3])\n",
    "\n",
    "        depth = [*sensors.get_depth_image_matrices(m, d, depth, cameras).values()]\n",
    "\n",
    "        # rot_matrices = []\n",
    "        # positions = []\n",
    "        # for i in cameras:\n",
    "        #     rot_matrices.append(R.from_quat(m.cam(i).quat).as_matrix())\n",
    "        #     positions.append(m.cam_pos[i])\n",
    "\n",
    "        mat = np.empty((0,3))\n",
    "        for i in range(len(cameras)):\n",
    "            mat = np.concatenate((mat, \n",
    "                                  pc.get_points(depth[i], \n",
    "                                                rot_matrices[i], \n",
    "                                                positions[i])))\n",
    "            \n",
    "        np.save(f'../dataset/v5/{name}_{\"%06d\" % (n+1,)}.npy', mat)"
   ]
  },
  {
   "cell_type": "markdown",
   "metadata": {},
   "source": [
    "## Point Cloud Visualization"
   ]
  },
  {
   "cell_type": "code",
   "execution_count": 8,
   "metadata": {},
   "outputs": [],
   "source": [
    "point_clouds = os.listdir('../dataset/v5')"
   ]
  },
  {
   "cell_type": "code",
   "execution_count": 11,
   "metadata": {},
   "outputs": [
    {
     "name": "stdout",
     "output_type": "stream",
     "text": [
      "Jupyter environment detected. Enabling Open3D WebVisualizer.\n",
      "[Open3D INFO] WebRTC GUI backend enabled.\n",
      "[Open3D INFO] WebRTCWindowSystem: HTTP handshake server disabled.\n"
     ]
    }
   ],
   "source": [
    "%matplotlib widget\n",
    "import matplotlib.pyplot as plt\n",
    "from mpl_toolkits.mplot3d import Axes3D\n",
    "\n",
    "def plot_point_cloud(mat):\n",
    "    # Create a 3D figure\n",
    "    fig = plt.figure()\n",
    "    ax = fig.add_subplot(projection='3d')\n",
    "\n",
    "    # Define the x, y, z coordinates of the point cloud\n",
    "    x = mat[:, 0]\n",
    "    y = mat[:, 1]\n",
    "    z = mat[:, 2]\n",
    "\n",
    "    # Plot the point cloud data\n",
    "    ax.scatter(x, y, z, s=1)\n",
    "\n",
    "    # Set the axis labels\n",
    "    ax.set_xlabel('X Label')\n",
    "    ax.set_ylabel('Y Label')\n",
    "    ax.set_zlabel('Z Label')\n",
    "\n",
    "    ax.scatter(0, 0, 0, s=10)\n",
    "\n",
    "    # ax.set_xlim(-0.3, 0.3)\n",
    "    # ax.set_ylim(-0.3, 0.3)\n",
    "    # ax.set_zlim(-0.3, 0.3)\n",
    "\n",
    "    # Show the plot\n",
    "    plt.show()\n",
    "    # print\n",
    "\n",
    "import open3d as o3d\n",
    "\n",
    "def plot_point_cloud_open3d(mat):\n",
    "    pcd = o3d.geometry.PointCloud()\n",
    "    pcd.points = o3d.utility.Vector3dVector(mat)\n",
    "    o3d.visualization.draw_geometries([pcd])"
   ]
  },
  {
   "cell_type": "code",
   "execution_count": 13,
   "metadata": {},
   "outputs": [
    {
     "name": "stdout",
     "output_type": "stream",
     "text": [
      "003_cracker_box_000001.npy\n",
      "(16159, 3)\n",
      "037_scissors_000001.npy\n",
      "(2683, 3)\n",
      "070-b_colored_wood_blocks_000001.npy\n",
      "(482, 3)\n",
      "073-b_lego_duplo_000001.npy\n",
      "(725, 3)\n",
      "013_apple_000001.npy\n",
      "(2644, 3)\n",
      "057_racquetball_000001.npy\n",
      "(1359, 3)\n",
      "073-e_lego_duplo_000001.npy\n",
      "(1546, 3)\n",
      "072-e_toy_airplane_000001.npy\n",
      "(492, 3)\n",
      "073-f_lego_duplo_000001.npy\n",
      "(745, 3)\n",
      "032_knife_000001.npy\n",
      "(1202, 3)\n"
     ]
    }
   ],
   "source": [
    "for i in range(10):\n",
    "    mat = np.load(f'../dataset/v4/{point_clouds[i]}')\n",
    "    print(point_clouds[i])\n",
    "    print(mat.shape)\n",
    "    plot_point_cloud_open3d(mat)"
   ]
  },
  {
   "cell_type": "code",
   "execution_count": null,
   "metadata": {},
   "outputs": [],
   "source": [
    "import numpy as np\n",
    "\n",
    "choices = np.array([0,1,2,3,4,5,6,7,8,9])\n",
    "chosen_index = np.random.choice(choices, 3, replace=False)\n",
    "\n",
    "choices[[1,2,3]]"
   ]
  },
  {
   "cell_type": "code",
   "execution_count": 4,
   "metadata": {},
   "outputs": [],
   "source": [
    "import open3d as o3d\n",
    "import numpy as np\n",
    "\n",
    "# Generate 1000 random points in a sphere\n",
    "points = np.random.rand(100, 3)\n",
    "# Repeat same color for 100 points\n",
    "colors = np.tile([255, 0, 0], (100, 1))\n",
    "\n",
    "# Generate another 1000 random points in a sphere\n",
    "points_2 = np.random.rand(100, 3)\n",
    "# Repeat same color for 100 points\n",
    "colors_2 = np.tile([0, 255, 0], (100, 1))\n",
    "\n",
    "# Concatenate the points and colors\n",
    "points = np.vstack((points, points_2))\n",
    "colors = np.vstack((colors, colors_2))\n",
    "\n",
    "# Create a point cloud from the points\n",
    "pcd = o3d.geometry.PointCloud()\n",
    "pcd.points = o3d.utility.Vector3dVector(points)\n",
    "pcd.colors = o3d.utility.Vector3dVector(colors)\n",
    "\n",
    "o3d.visualization.draw_geometries([pcd])\n"
   ]
  },
  {
   "cell_type": "code",
   "execution_count": null,
   "metadata": {},
   "outputs": [],
   "source": []
  }
 ],
 "metadata": {
  "kernelspec": {
   "display_name": "mujoco-venv",
   "language": "python",
   "name": "python3"
  },
  "language_info": {
   "codemirror_mode": {
    "name": "ipython",
    "version": 3
   },
   "file_extension": ".py",
   "mimetype": "text/x-python",
   "name": "python",
   "nbconvert_exporter": "python",
   "pygments_lexer": "ipython3",
   "version": "3.10.13"
  },
  "orig_nbformat": 4
 },
 "nbformat": 4,
 "nbformat_minor": 2
}
