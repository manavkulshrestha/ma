{
 "cells": [
  {
   "cell_type": "code",
   "execution_count": 1,
   "metadata": {},
   "outputs": [],
   "source": [
    "import mujoco, mujoco.renderer, mujoco.viewer\n",
    "import mediapy as media\n",
    "import numpy as np\n",
    "import matplotlib.pyplot as plt\n",
    "\n",
    "xml = \"\"\"\n",
    "<mujoco>\n",
    "  <visual>\n",
    "    <quality offsamples=\"0\"/>\n",
    "    <global offwidth=\"680\" offheight=\"420\"/>\n",
    "  </visual>\n",
    "\n",
    "  <worldbody>\n",
    "\n",
    "    <geom name=\"floor\" type=\"plane\" size=\"2 2 0.1\" rgba=\"0.9 0.9 0.9 1\"/>\n",
    "\n",
    "    <geom name=\"box\" type=\"box\" pos=\"0 0 0.3\" size=\"0.2 0.2 0.2\" quat=\"-0.82 -0.42 0.17 0.35\" rgba=\"0.9 0.1 0.1 1\"/>\n",
    "\n",
    "    <camera name=\"camera2\" pos=\"-0.8 -0.8 1\" quat=\"-0.82 -0.42 0.17 0.35\" />\n",
    "\n",
    "  </worldbody>\n",
    "</mujoco>\n",
    "\n",
    "\"\"\"\n",
    "\n",
    "m = mujoco.MjModel.from_xml_string(xml)\n",
    "d = mujoco.MjData(m)\n",
    "\n",
    "depth_renderer = mujoco.Renderer(m, 420, 680); depth_renderer.enable_depth_rendering()\n",
    "sgmnt_renderer = mujoco.Renderer(m, 420, 680); sgmnt_renderer.enable_segmentation_rendering()\n",
    "\n",
    "# Step and render\n",
    "mujoco.mj_step(m, d)\n",
    "\n",
    "depth_renderer.update_scene(d, 0)\n",
    "sgmnt_renderer.update_scene(d, 0)"
   ]
  },
  {
   "cell_type": "code",
   "execution_count": 2,
   "metadata": {},
   "outputs": [],
   "source": [
    "def get_point_cloud(frame, sgmnt, w, h):\n",
    "    fovy = 60\n",
    "    f_y = 0.5 * h / np.tan(fovy * np.pi / 360)\n",
    "    f_x = f_y * (w / h)\n",
    "\n",
    "    # Create arrays for x and y coordinates\n",
    "    x = (np.arange(0, w) - w/2) * w / h / f_x\n",
    "    y = (np.arange(0, h) - h/2) / f_y\n",
    "    z = np.ones((w*h, 1))\n",
    "    \n",
    "    # Use meshgrid to create two grids of x and y coordinates\n",
    "    X, Y = np.meshgrid(x, y)\n",
    "\n",
    "    # Stack X and Y to create the matrix\n",
    "    matrix = np.vstack((X.flatten(), Y.flatten())).T\n",
    "\n",
    "    # Vectorized matrix to convert depth to 3D points\n",
    "    matrix = np.concatenate((matrix, z), axis=1)\n",
    "\n",
    "    frame = frame.reshape((-1, 1))\n",
    "    sgment = sgmnt.reshape((-1, 1))\n",
    "\n",
    "     # Get the points in the frame\n",
    "    points = frame * matrix\n",
    "\n",
    "    # Selecting renders \n",
    "    sgment = sgment[~np.isnan(points).any(axis=1)]\n",
    "    points = points[~np.isnan(points).any(axis=1)]\n",
    "\n",
    "    return points, sgment"
   ]
  },
  {
   "cell_type": "code",
   "execution_count": 3,
   "metadata": {},
   "outputs": [],
   "source": [
    "def zoom(array, a, b, top_left_row, top_left_col):\n",
    "  \"\"\"\n",
    "  Get a sub array in the middle of the given array, starting at the top left pixel\n",
    "  index.\n",
    "\n",
    "  Args:\n",
    "    array: A numpy array of size n x m.\n",
    "    a: The height of the sub array.\n",
    "    b: The width of the sub array.\n",
    "    top_left_row: The row index of the top left pixel of the sub array.\n",
    "    top_left_col: The column index of the top left pixel of the sub array.\n",
    "\n",
    "  Returns:\n",
    "    A numpy array of size a x b.\n",
    "  \"\"\"\n",
    "\n",
    "  n, m = array.shape\n",
    "  start_row = top_left_row\n",
    "  start_col = top_left_col\n",
    "  end_row = start_row + a\n",
    "  end_col = start_col + b\n",
    "  sub_array = array[start_row:end_row, start_col:end_col]\n",
    "  return sub_array"
   ]
  },
  {
   "cell_type": "code",
   "execution_count": 4,
   "metadata": {},
   "outputs": [
    {
     "name": "stdout",
     "output_type": "stream",
     "text": [
      "(420, 680)\n"
     ]
    },
    {
     "data": {
      "text/html": [
       "<table class=\"show_images\" style=\"border-spacing:0px;\"><tr><td style=\"padding:1px;\"><img width=\"680\" height=\"420\" style=\"image-rendering:auto; object-fit:cover;\" src=\"data:image/png;base64,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\"/></td></tr></table>"
      ],
      "text/plain": [
       "<IPython.core.display.HTML object>"
      ]
     },
     "metadata": {},
     "output_type": "display_data"
    },
    {
     "name": "stdout",
     "output_type": "stream",
     "text": [
      "(420, 680)\n"
     ]
    },
    {
     "data": {
      "text/html": [
       "<table class=\"show_images\" style=\"border-spacing:0px;\"><tr><td style=\"padding:1px;\"><img width=\"680\" height=\"420\" style=\"image-rendering:auto; object-fit:cover;\" src=\"data:image/png;base64,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\"/></td></tr></table>"
      ],
      "text/plain": [
       "<IPython.core.display.HTML object>"
      ]
     },
     "metadata": {},
     "output_type": "display_data"
    }
   ],
   "source": [
    "depth = depth_renderer.render()\n",
    "sgmnt = sgmnt_renderer.render()[:, :, 0].astype(\"float\")\n",
    "\n",
    "depth[depth > 4] = np.nan\n",
    "sgmnt[sgmnt == -1] = np.nan\n",
    "\n",
    "# depth[85, 320] = 5\n",
    "# sgmnt[85, 320] = 3\n",
    "\n",
    "print(depth.shape)\n",
    "media.show_image(depth)\n",
    "print(sgmnt.shape)\n",
    "media.show_image(sgmnt)"
   ]
  },
  {
   "cell_type": "code",
   "execution_count": 5,
   "metadata": {},
   "outputs": [
    {
     "name": "stdout",
     "output_type": "stream",
     "text": [
      "(20, 20)\n"
     ]
    },
    {
     "data": {
      "text/html": [
       "<table class=\"show_images\" style=\"border-spacing:0px;\"><tr><td style=\"padding:1px;\"><img width=\"20\" height=\"20\" style=\"image-rendering:auto; object-fit:cover;\" src=\"data:image/png;base64,iVBORw0KGgoAAAANSUhEUgAAABQAAAAUCAIAAAAC64paAAAAEklEQVR4nGNgGAWjYBSMgqELAATEAAE0eCSYAAAAAElFTkSuQmCC\"/></td></tr></table>"
      ],
      "text/plain": [
       "<IPython.core.display.HTML object>"
      ]
     },
     "metadata": {},
     "output_type": "display_data"
    },
    {
     "name": "stdout",
     "output_type": "stream",
     "text": [
      "(20, 20)\n"
     ]
    },
    {
     "data": {
      "text/html": [
       "<table class=\"show_images\" style=\"border-spacing:0px;\"><tr><td style=\"padding:1px;\"><img width=\"20\" height=\"20\" style=\"image-rendering:auto; object-fit:cover;\" src=\"data:image/png;base64,iVBORw0KGgoAAAANSUhEUgAAABQAAAAUCAIAAAAC64paAAAAEklEQVR4nGNgGAWjYBSMgqELAATEAAE0eCSYAAAAAElFTkSuQmCC\"/></td></tr></table>"
      ],
      "text/plain": [
       "<IPython.core.display.HTML object>"
      ]
     },
     "metadata": {},
     "output_type": "display_data"
    }
   ],
   "source": [
    "z_depth = zoom(depth, 20, 20, 85, 320)\n",
    "z_sgmnt = zoom(sgmnt, 20, 20, 85, 320)\n",
    "\n",
    "print(z_depth.shape)\n",
    "media.show_image(z_depth)\n",
    "print(z_sgmnt.shape)\n",
    "media.show_image(z_sgmnt)"
   ]
  },
  {
   "cell_type": "code",
   "execution_count": 6,
   "metadata": {},
   "outputs": [
    {
     "data": {
      "text/plain": [
       "<matplotlib.image.AxesImage at 0x7fb75cf42e60>"
      ]
     },
     "execution_count": 6,
     "metadata": {},
     "output_type": "execute_result"
    },
    {
     "data": {
      "text/plain": [
       "<Figure size 640x480 with 0 Axes>"
      ]
     },
     "metadata": {},
     "output_type": "display_data"
    },
    {
     "data": {
      "image/png": "[encoded data removed]",
      "text/plain": [
       "<Figure size 480x480 with 1 Axes>"
      ]
     },
     "metadata": {},
     "output_type": "display_data"
    }
   ],
   "source": [
    "fig = plt.figure()\n",
    "plt.matshow(z_depth)"
   ]
  },
  {
   "cell_type": "code",
   "execution_count": 7,
   "metadata": {},
   "outputs": [
    {
     "data": {
      "text/plain": [
       "<matplotlib.image.AxesImage at 0x7fb75ce0f790>"
      ]
     },
     "execution_count": 7,
     "metadata": {},
     "output_type": "execute_result"
    },
    {
     "data": {
      "text/plain": [
       "<Figure size 640x480 with 0 Axes>"
      ]
     },
     "metadata": {},
     "output_type": "display_data"
    },
    {
     "data": {
      "image/png": "[encoded data removed]",
      "text/plain": [
       "<Figure size 480x480 with 1 Axes>"
      ]
     },
     "metadata": {},
     "output_type": "display_data"
    }
   ],
   "source": [
    "fig = plt.figure()\n",
    "plt.matshow(z_sgmnt)"
   ]
  },
  {
   "cell_type": "code",
   "execution_count": 8,
   "metadata": {},
   "outputs": [
    {
     "name": "stdout",
     "output_type": "stream",
     "text": [
      "Jupyter environment detected. Enabling Open3D WebVisualizer.\n",
      "[Open3D INFO] WebRTC GUI backend enabled.\n",
      "[Open3D INFO] WebRTCWindowSystem: HTTP handshake server disabled.\n",
      "(251214, 3)\n",
      "(251214, 1)\n"
     ]
    }
   ],
   "source": [
    "import open3d as o3d\n",
    "\n",
    "pc, ids = get_point_cloud(depth, sgmnt, 680, 420)\n",
    "\n",
    "print(pc.shape)\n",
    "print(ids.shape)\n",
    "\n",
    "pcd = o3d.geometry.PointCloud()\n",
    "\n",
    "for id in np.unique(ids):\n",
    "    pcd.points = o3d.utility.Vector3dVector(pc[(ids == id).any(axis=1)])\n",
    "    o3d.visualization.draw_geometries([pcd])"
   ]
  },
  {
   "cell_type": "code",
   "execution_count": null,
   "metadata": {},
   "outputs": [],
   "source": [
    "import mujoco, mujoco.renderer, mujoco.viewer\n",
    "import numpy as np\n",
    "import open3d as o3d\n",
    "xml = \"\"\"\n",
    "<mujoco>\n",
    "  <visual>\n",
    "    <global offwidth=\"680\" offheight=\"420\"/>\n",
    "  </visual>\n",
    "\n",
    "  <worldbody>\n",
    "\n",
    "    <geom name=\"floor\" type=\"plane\" size=\"2 2 0.1\" rgba=\"0.9 0.9 0.9 1\"/>\n",
    "\n",
    "    <geom name=\"box\" type=\"box\" pos=\"0 0 0.2\" size=\"0.2 0.2 0.2\" rgba=\"0.9 0.1 0.1 1\"/>\n",
    "\n",
    "    <camera name=\"camera2\" pos=\"-0.8 -0.8 1\" quat=\"-0.82 -0.42 0.17 0.35\" />\n",
    "\n",
    "  </worldbody>\n",
    "</mujoco>\n",
    "\n",
    "\"\"\"\n",
    "\n",
    "# Creating model and data\n",
    "m = mujoco.MjModel.from_xml_string(xml)\n",
    "d = mujoco.MjData(m)\n",
    "\n",
    "# Creating the renderers\n",
    "depth_renderer = mujoco.Renderer(m, 420, 680); depth_renderer.enable_depth_rendering()\n",
    "sgmnt_renderer = mujoco.Renderer(m, 420, 680); sgmnt_renderer.enable_segmentation_rendering()\n",
    "\n",
    "# Step and render\n",
    "mujoco.mj_step(m, d)\n",
    "\n",
    "depth_renderer.update_scene(d, 0)\n",
    "sgmnt_renderer.update_scene(d, 0)\n",
    "\n",
    "# Rendering depth and segmentation frames\n",
    "depth = depth_renderer.render()\n",
    "sgmnt = sgmnt_renderer.render()[:, :, 0].astype(\"float\")\n",
    "\n",
    "depth[depth > 4] = np.nan\n",
    "sgmnt[sgmnt == -1] = np.nan\n",
    "\n",
    "# Generating point clouds\n",
    "point_cloud, ids = get_point_cloud(depth, sgmnt, 680, 420)\n",
    "\n",
    "# Displaying point clouds\n",
    "pcd = o3d.geometry.PointCloud()\n",
    "for id in np.unique(ids):\n",
    "    pcd.points = o3d.utility.Vector3dVector(point_cloud[(ids == id).any(axis=1)])\n",
    "    o3d.visualization.draw_geometries([pcd])\n"
   ]
  },
  {
   "cell_type": "code",
   "execution_count": null,
   "metadata": {},
   "outputs": [],
   "source": []
  }
 ],
 "metadata": {
  "kernelspec": {
   "display_name": "mujoco-torch",
   "language": "python",
   "name": "python3"
  },
  "language_info": {
   "codemirror_mode": {
    "name": "ipython",
    "version": 3
   },
   "file_extension": ".py",
   "mimetype": "text/x-python",
   "name": "python",
   "nbconvert_exporter": "python",
   "pygments_lexer": "ipython3",
   "version": "3.10.13"
  }
 },
 "nbformat": 4,
 "nbformat_minor": 2
}
