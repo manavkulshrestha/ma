{
 "cells": [
  {
   "cell_type": "code",
   "execution_count": null,
   "metadata": {},
   "outputs": [],
   "source": [
    "%load_ext autoreload\n",
    "%autoreload 2"
   ]
  },
  {
   "cell_type": "code",
   "execution_count": null,
   "metadata": {},
   "outputs": [],
   "source": [
    "import time\n",
    "\n",
    "import mujoco as mj\n",
    "import mujoco.viewer\n",
    "import mujoco.renderer # Additional import\n",
    "\n",
    "import numpy as np\n",
    "from scipy.spatial.transform import Rotation as R\n",
    "\n",
    "from utility import unit\n",
    "from controller import Controller\n",
    "from human import Human\n",
    "\n",
    "from sensors import Sensors\n",
    "from video_recorder import Recorder\n",
    "\n",
    "def move_simple(name, *, t, func, axis=-1, model):\n",
    "  model.site(name).pos[axis] = func(t)\n",
    "\n",
    "m = mj.MjModel.from_xml_path('./mjcf/tec.xml')\n",
    "d = mj.MjData(m)\n",
    "t = 0\n",
    "\n",
    "# Create a renderer for data collection\n",
    "r_rgb = mujoco.renderer.Renderer(m, 480, 640)\n",
    "r_depth = mujoco.renderer.Renderer(m, 480, 640)\n",
    "r_seg = mujoco.renderer.Renderer(m, 480, 640)\n",
    "r_depth.enable_depth_rendering()\n",
    "r_seg.enable_segmentation_rendering()\n",
    "\n",
    "# Create a recorder for data collection\n",
    "sensor = Sensors()\n",
    "recorder = Recorder(duration=30, \n",
    "                    fps=30, \n",
    "                    n_cameras=m.cam_user.shape[0], \n",
    "                    folder=\"./\")\n",
    "\n",
    "mujoco.mj_step(m, d)"
   ]
  },
  {
   "cell_type": "code",
   "execution_count": null,
   "metadata": {},
   "outputs": [],
   "source": [
    "with mujoco.viewer.launch_passive(m, d) as viewer:\n",
    "# Close the viewer automatically after 30 wall-seconds.\n",
    "\n",
    "    start = time.time()\n",
    "    while viewer.is_running() and time.time() - start < recorder.duration:\n",
    "        step_start = time.time()\n",
    "\n",
    "        # policy\n",
    "        # mj_step can be replaced with code that also evaluates\n",
    "        # a policy and applies a contro l signal before stepping the physics.\n",
    "\n",
    "        move_simple('human1', t=t, func=lambda x: (np.sin(x)+1)/2 * 0.2 + 0.05, axis=-1, model=m)\n",
    "        move_simple('human2', t=t, func=lambda x: (np.sin(x*2)+1)/2 * 0.2 + 0.05, axis=-1, model=m)\n",
    "        move_simple('human3', t=t, func=lambda x: (np.sin(x*3)+1)/2 * 0.2 + 0.05, axis=-1, model=m)\n",
    "        mujoco.mj_step(m, d)\n",
    "        t += 0.1\n",
    "\n",
    "        # Get RGB, depth, and segmentation images\n",
    "        readings = sensor.get_rgbd_seg_matrices(m, d, r_rgb, r_depth, r_seg)\n",
    "        # Save images to recorder\n",
    "        recorder.add_frame(readings)\n",
    "\n",
    "        # Pick up changes to the physics state, apply perturbations, update options from GUI.\n",
    "        viewer.sync()\n",
    "\n",
    "        # Rudimentary time keeping, will drift relative to wall clock.\n",
    "        time_until_next_step = m.opt.timestep - (time.time() - step_start)\n",
    "        if time_until_next_step > 0:\n",
    "            time.sleep(time_until_next_step)\n",
    "            time.sleep(0.01)\n",
    "\n",
    "# Save videos\n",
    "# recorder.show_videos()"
   ]
  },
  {
   "cell_type": "code",
   "execution_count": null,
   "metadata": {},
   "outputs": [],
   "source": [
    "# Retrieve data from the cameras\n",
    "readings = sensor.get_rgbd_seg_matrices(m, d, r_rgb, r_depth, r_seg)\n",
    "\n",
    "poses = []\n",
    "rotations = []\n",
    "for i in range(m.cam_user.shape[0]):\n",
    "    pos = m.cam_pos[i] + m.body(m.cam_bodyid[i]).pos\n",
    "    poses.append(pos)\n",
    "\n",
    "    rot = R.from_quat(m.body(m.cam_bodyid[i]).quat).as_matrix()\n",
    "    rotations.append(rot)\n",
    "\n",
    "# Generate point cloud from depth image\n",
    "import point_cloud as pcu\n",
    "\n",
    "point_cloud = pcu.PointCloud((480, 640))"
   ]
  },
  {
   "cell_type": "code",
   "execution_count": null,
   "metadata": {},
   "outputs": [],
   "source": [
    "poses"
   ]
  },
  {
   "cell_type": "code",
   "execution_count": null,
   "metadata": {},
   "outputs": [],
   "source": [
    "rotations"
   ]
  },
  {
   "cell_type": "code",
   "execution_count": null,
   "metadata": {},
   "outputs": [],
   "source": [
    "m.cam_bodyid\n",
    "\n",
    "m.body(m.cam_bodyid[0]).pos\n",
    "\n",
    "# r = R.from_quat(m.body(m.cam_bodyid[2]).quat)\n",
    "# r.as_matrix()"
   ]
  },
  {
   "cell_type": "code",
   "execution_count": null,
   "metadata": {},
   "outputs": [],
   "source": [
    "np.save(\"depth_1.npy\", readings[0][:, :, 3])\n",
    "np.save(\"depth_2.npy\", readings[1][:, :, 3])"
   ]
  },
  {
   "cell_type": "code",
   "execution_count": null,
   "metadata": {},
   "outputs": [],
   "source": [
    "import matplotlib.pyplot as plt\n",
    "\n",
    "fig = plt.figure()\n",
    "plt.imshow(readings[0][:, :, 3])\n",
    "plt.show()\n",
    "\n",
    "fig = plt.figure()\n",
    "plt.imshow(readings[1][:, :, 3])\n",
    "plt.show()\n",
    "\n",
    "fig = plt.figure()\n",
    "plt.imshow(readings[2][:, :, 3])\n",
    "plt.show()"
   ]
  },
  {
   "cell_type": "code",
   "execution_count": null,
   "metadata": {},
   "outputs": [],
   "source": [
    "arr = []\n",
    "\n",
    "for i in range(len(readings)):\n",
    "    aux = point_cloud.get_points(readings[i][:, :, 3], poses[i], rotations[i])\n",
    "    np.save(f\"points_{i}.npy\", aux)\n",
    "    arr = arr + aux\n",
    "\n",
    "# i = 0\n",
    "# arr = arr + point_cloud.get_points(readings[i][:, :, 3], poses[i], 90 * np.pi / 180)\n",
    "\n",
    "mat = np.array(arr)\n",
    "mat.shape\n",
    "\n",
    "# mat = np.array([[0, 0, 1]])"
   ]
  },
  {
   "cell_type": "code",
   "execution_count": null,
   "metadata": {},
   "outputs": [],
   "source": [
    "# for creating a responsive plot\n",
    "%matplotlib widget\n",
    "import matplotlib.pyplot as plt\n",
    "from mpl_toolkits.mplot3d import Axes3D\n",
    "\n",
    "# Create a 3D figure\n",
    "fig = plt.figure()\n",
    "ax = fig.add_subplot(projection='3d')\n",
    "\n",
    "# Define the x, y, z coordinates of the point cloud\n",
    "x = mat[:, 0]\n",
    "y = mat[:, 1]\n",
    "z = mat[:, 2]\n",
    "\n",
    "# Plot the point cloud data\n",
    "ax.scatter(x, y, z, s=1)\n",
    "\n",
    "# Set the axis labels\n",
    "ax.set_xlabel('X Label')\n",
    "ax.set_ylabel('Y Label')\n",
    "ax.set_zlabel('Z Label')\n",
    "\n",
    "# left = 0\n",
    "# right = 1\n",
    "ax.set_xlim(-1, 1)\n",
    "ax.set_ylim(-1, 1)\n",
    "ax.set_zlim(-1, 1)\n",
    "\n",
    "# Show the plot\n",
    "plt.show()"
   ]
  },
  {
   "cell_type": "code",
   "execution_count": null,
   "metadata": {},
   "outputs": [],
   "source": [
    "mat"
   ]
  },
  {
   "cell_type": "markdown",
   "metadata": {},
   "source": []
  },
  {
   "cell_type": "markdown",
   "metadata": {},
   "source": [
    "## Implementation of Open3D"
   ]
  },
  {
   "cell_type": "code",
   "execution_count": null,
   "metadata": {},
   "outputs": [],
   "source": [
    "# Importing libraries\n",
    "import numpy as np\n",
    "import matplotlib.pyplot as plt\n",
    "  \n",
    "# A custom function to calculate\n",
    "# probability distribution function\n",
    "def pdf(size):\n",
    "    x = np.arange(0, size, 1)\n",
    "\n",
    "    mean = np.mean(x)\n",
    "    std = np.std(x) + 400\n",
    "    y_out = 1/(std * np.sqrt(2 * np.pi)) * np.exp( - (x - mean)**2 / (2 * std**2))\n",
    "    return y_out\n",
    "    \n",
    "# To generate an array of x-values\n",
    "x = np.arange(0, 460, 1)\n",
    "  \n",
    "# To generate an array of\n",
    "# y-values using corresponding x-values\n",
    "y = pdf(460)\n",
    "max = y.max()\n",
    "y = y/max\n",
    "  \n",
    "# Plotting the bell-shaped curve\n",
    "plt.style.use('seaborn')\n",
    "plt.figure(figsize = (6, 6))\n",
    "plt.plot(x, y, color = 'black',\n",
    "         linestyle = 'dashed')\n",
    "  \n",
    "plt.scatter( x, y, marker = 'o', s = 25, color = 'red')\n",
    "plt.show()"
   ]
  }
 ],
 "metadata": {
  "kernelspec": {
   "display_name": "mujoco-venv",
   "language": "python",
   "name": "python3"
  },
  "language_info": {
   "codemirror_mode": {
    "name": "ipython",
    "version": 3
   },
   "file_extension": ".py",
   "mimetype": "text/x-python",
   "name": "python",
   "nbconvert_exporter": "python",
   "pygments_lexer": "ipython3",
   "version": "3.11.0"
  },
  "orig_nbformat": 4
 },
 "nbformat": 4,
 "nbformat_minor": 2
}
