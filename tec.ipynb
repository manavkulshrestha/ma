{
 "cells": [
  {
   "cell_type": "code",
   "execution_count": 1,
   "metadata": {},
   "outputs": [],
   "source": [
    "%load_ext autoreload\n",
    "%autoreload 2\n",
    "\n",
    "import time\n",
    "\n",
    "import mujoco as mj\n",
    "import mujoco.viewer\n",
    "import mujoco.renderer # Additional import\n",
    "\n",
    "import numpy as np\n",
    "from scipy.spatial.transform import Rotation as R\n",
    "\n",
    "from utility import unit\n",
    "from controller import Controller\n",
    "from human import Human\n",
    "\n",
    "from sensors import Sensors\n",
    "from video_recorder import Recorder\n",
    "\n",
    "def move_simple(name, *, t, func, axis=-1, model):\n",
    "  model.site(name).pos[axis] = func(t)\n",
    "\n",
    "m = mj.MjModel.from_xml_path('./mjcf/tec.xml')\n",
    "d = mj.MjData(m)\n",
    "t = 0\n",
    "\n",
    "# Create a renderer for data collection\n",
    "r_rgb = mujoco.renderer.Renderer(m, 480, 640)\n",
    "r_depth = mujoco.renderer.Renderer(m, 480, 640)\n",
    "r_seg = mujoco.renderer.Renderer(m, 480, 640)\n",
    "r_depth.enable_depth_rendering()\n",
    "r_seg.enable_segmentation_rendering()\n",
    "\n",
    "# Create a recorder for data collection\n",
    "sensor = Sensors()\n",
    "recorder = Recorder(duration=30, \n",
    "                    fps=30, \n",
    "                    n_cameras=m.cam_user.shape[0], \n",
    "                    folder=\"./\")\n",
    "\n",
    "mujoco.mj_step(m, d)"
   ]
  },
  {
   "cell_type": "code",
   "execution_count": 2,
   "metadata": {},
   "outputs": [],
   "source": [
    "with mujoco.viewer.launch_passive(m, d) as viewer:\n",
    "# Close the viewer automatically after 30 wall-seconds.\n",
    "\n",
    "    start = time.time()\n",
    "    while viewer.is_running() and time.time():\n",
    "        step_start = time.time()\n",
    "\n",
    "        # policy\n",
    "        # mj_step can be replaced with code that also evaluates\n",
    "        # a policy and applies a contro l signal before stepping the physics.\n",
    "        mujoco.mj_step(m, d)\n",
    "        t += 0.1\n",
    "\n",
    "        # Get RGB, depth, and segmentation images\n",
    "        readings = sensor.get_rgbd_seg_matrices(m, d, r_rgb, r_depth, r_seg)\n",
    "        # # Save images to recorder\n",
    "        # recorder.add_frame(readings)\n",
    "\n",
    "        # Pick up changes to the physics state, apply perturbations, update options from GUI.\n",
    "        viewer.sync()\n",
    "\n",
    "        # Rudimentary time keeping, will drift relative to wall clock.\n",
    "        time_until_next_step = m.opt.timestep - (time.time() - step_start)\n",
    "        if time_until_next_step > 0:\n",
    "            time.sleep(time_until_next_step)\n",
    "            time.sleep(0.01)\n",
    "\n",
    "# Save videos\n",
    "# recorder.show_videos()"
   ]
  },
  {
   "cell_type": "code",
   "execution_count": 4,
   "metadata": {},
   "outputs": [
    {
     "data": {
      "text/html": [
       "<table class=\"show_images\" style=\"border-spacing:0px;\"><tr><td style=\"padding:1px;\"><img width=\"640\" height=\"480\" style=\"image-rendering:auto; object-fit:cover;\" src=\"data:image/png;base64,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\"/></td></tr></table>"
      ],
      "text/plain": [
       "<IPython.core.display.HTML object>"
      ]
     },
     "metadata": {},
     "output_type": "display_data"
    },
    {
     "data": {
      "text/html": [
       "<table class=\"show_images\" style=\"border-spacing:0px;\"><tr><td style=\"padding:1px;\"><img width=\"640\" height=\"480\" style=\"image-rendering:auto; object-fit:cover;\" src=\"data:image/png;base64,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\"/></td></tr></table>"
      ],
      "text/plain": [
       "<IPython.core.display.HTML object>"
      ]
     },
     "metadata": {},
     "output_type": "display_data"
    },
    {
     "data": {
      "text/html": [
       "<table class=\"show_images\" style=\"border-spacing:0px;\"><tr><td style=\"padding:1px;\"><img width=\"640\" height=\"480\" style=\"image-rendering:auto; object-fit:cover;\" src=\"data:image/png;base64,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\"/></td></tr></table>"
      ],
      "text/plain": [
       "<IPython.core.display.HTML object>"
      ]
     },
     "metadata": {},
     "output_type": "display_data"
    }
   ],
   "source": [
    "import mediapy as media\n",
    "\n",
    "# show rgb\n",
    "media.show_image(readings[0][:, :, 4])\n",
    "\n",
    "# show depth\n",
    "media.show_image(readings[1][:, :, 4])\n",
    "\n",
    "# show seg\n",
    "media.show_image(readings[2][:, :, 4])"
   ]
  },
  {
   "cell_type": "markdown",
   "metadata": {},
   "source": [
    "## Point Cloud Retrieve\n",
    "Code fragment of how to retrieve the point clouds."
   ]
  },
  {
   "cell_type": "code",
   "execution_count": 14,
   "metadata": {},
   "outputs": [],
   "source": [
    "import open3d as o3d\n",
    "\n",
    "def draw_pc(pc):\n",
    "    pcd = o3d.geometry.PointCloud()\n",
    "    pcd.points = o3d.utility.Vector3dVector(np.vstack((pc, np.array([0.2,0.2,0.2]))))\n",
    "    o3d.visualization.draw_plotly([pcd])\n",
    "\n",
    "def show_pc(pc, colors=None):\n",
    "    pcd = o3d.geometry.PointCloud()\n",
    "    pcd.points = o3d.utility.Vector3dVector(pc)\n",
    "    if colors is not None:\n",
    "        pcd.colors = o3d.utility.Vector3dVector(colors)\n",
    "    o3d.visualization.draw_geometries([pcd])\n",
    "\n",
    "def transform_point_cloud(pc_array):\n",
    "    pc_array = pc_array - np.mean(pc_array, axis=0)\n",
    "    pc_array = pc_array[np.random.choice(pc_array.shape[0], 512, replace=True), :]\n",
    "    # pc_array = pc_array / np.max(np.linalg.norm(np.abs(pc_array), axis=1))\n",
    "    return pc_array"
   ]
  },
  {
   "cell_type": "code",
   "execution_count": 20,
   "metadata": {},
   "outputs": [],
   "source": [
    "from vectorized_point_cloud import VectorizedPC\n",
    "point_cloud = VectorizedPC((480, 640), 60)\n",
    "\n",
    "# Get RGB, depth, and segmentation images\n",
    "depth = [*sensor.get_depth_image_matrices(m, d, r_depth).values()]\n",
    "segmn = [*sensor.get_segment_image_matrices(m, d, r_seg).values()]\n",
    "\n",
    "cam_num = m.cam_user.shape[0]\n",
    "cam_pos = []\n",
    "cam_rot = []\n",
    "for i in range(cam_num):\n",
    "    cam_pos.append(m.cam_pos[i])\n",
    "    cam_rot.append(R.from_quat(m.cam(i).quat).as_matrix())\n",
    "\n",
    "# Obtaining the pointclouds from the depth images segmented\n",
    "pc = {}\n",
    "mat = None\n",
    "for i in range(cam_num):\n",
    "    rot = (R.from_matrix(cam_rot[i]).as_euler('xyz', degrees=True)[0] - 180) * -1\n",
    "    rot = R.from_euler('xyz', [rot, 0, 90], degrees=True).as_matrix()\n",
    "    aux = point_cloud.get_segmented_points(depth[i],\n",
    "                                        segmn[i],\n",
    "                                        rot,\n",
    "                                        cam_pos[i])\n",
    "    for key in aux.keys():\n",
    "        if mat is None:\n",
    "            mat = aux[key]\n",
    "        else:\n",
    "            mat = np.concatenate((mat, aux[key]))\n",
    "\n",
    "    show_pc(mat)\n",
    "\n",
    "    \n",
    "    # for key in aux.keys():\n",
    "    #     if key == -1:\n",
    "    #         continue\n",
    "    #     try:\n",
    "    #         pc[key] = np.concatenate((pc[key], aux[key]))\n",
    "    #     except:\n",
    "    #         pc[key] = aux[key]"
   ]
  },
  {
   "cell_type": "code",
   "execution_count": 18,
   "metadata": {},
   "outputs": [
    {
     "ename": "RuntimeError",
     "evalue": "Unable to cast Python instance to C++ type (compile in debug mode for details)",
     "output_type": "error",
     "traceback": [
      "\u001b[0;31m---------------------------------------------------------------------------\u001b[0m",
      "\u001b[0;31mRuntimeError\u001b[0m                              Traceback (most recent call last)",
      "\u001b[1;32m/home/layla/Desktop/mujoco-dev/ma/tec.ipynb Cell 7\u001b[0m line \u001b[0;36m1\n\u001b[0;32m----> <a href='vscode-notebook-cell:/home/layla/Desktop/mujoco-dev/ma/tec.ipynb#X25sZmlsZQ%3D%3D?line=0'>1</a>\u001b[0m show_pc(aux)\n",
      "\u001b[1;32m/home/layla/Desktop/mujoco-dev/ma/tec.ipynb Cell 7\u001b[0m line \u001b[0;36m1\n\u001b[1;32m      <a href='vscode-notebook-cell:/home/layla/Desktop/mujoco-dev/ma/tec.ipynb#X25sZmlsZQ%3D%3D?line=7'>8</a>\u001b[0m \u001b[39mdef\u001b[39;00m \u001b[39mshow_pc\u001b[39m(pc, colors\u001b[39m=\u001b[39m\u001b[39mNone\u001b[39;00m):\n\u001b[1;32m      <a href='vscode-notebook-cell:/home/layla/Desktop/mujoco-dev/ma/tec.ipynb#X25sZmlsZQ%3D%3D?line=8'>9</a>\u001b[0m     pcd \u001b[39m=\u001b[39m o3d\u001b[39m.\u001b[39mgeometry\u001b[39m.\u001b[39mPointCloud()\n\u001b[0;32m---> <a href='vscode-notebook-cell:/home/layla/Desktop/mujoco-dev/ma/tec.ipynb#X25sZmlsZQ%3D%3D?line=9'>10</a>\u001b[0m     pcd\u001b[39m.\u001b[39mpoints \u001b[39m=\u001b[39m o3d\u001b[39m.\u001b[39;49mutility\u001b[39m.\u001b[39;49mVector3dVector(pc)\n\u001b[1;32m     <a href='vscode-notebook-cell:/home/layla/Desktop/mujoco-dev/ma/tec.ipynb#X25sZmlsZQ%3D%3D?line=10'>11</a>\u001b[0m     \u001b[39mif\u001b[39;00m colors \u001b[39mis\u001b[39;00m \u001b[39mnot\u001b[39;00m \u001b[39mNone\u001b[39;00m:\n\u001b[1;32m     <a href='vscode-notebook-cell:/home/layla/Desktop/mujoco-dev/ma/tec.ipynb#X25sZmlsZQ%3D%3D?line=11'>12</a>\u001b[0m         pcd\u001b[39m.\u001b[39mcolors \u001b[39m=\u001b[39m o3d\u001b[39m.\u001b[39mutility\u001b[39m.\u001b[39mVector3dVector(colors)\n",
      "\u001b[0;31mRuntimeError\u001b[0m: Unable to cast Python instance to C++ type (compile in debug mode for details)"
     ]
    }
   ],
   "source": [
    "show_pc(aux)"
   ]
  },
  {
   "cell_type": "code",
   "execution_count": 17,
   "metadata": {},
   "outputs": [],
   "source": [
    "for i in list(pc.keys()):\n",
    "    pc_array = transform_point_cloud(pc[i])\n",
    "    show_pc(pc[i])"
   ]
  },
  {
   "cell_type": "code",
   "execution_count": 5,
   "metadata": {},
   "outputs": [],
   "source": [
    "# Retrieve data from the cameras\n",
    "readings = sensor.get_rgbd_seg_matrices(m, d, r_rgb, r_depth, r_seg)\n",
    "frames = [readings[i][:, :, 3] for i in range(len(readings))]\n",
    "segments = [readings[i][:, :, 4] for i in range(len(readings))]\n",
    "\n",
    "# This can be obtained from the model at the beginning of the simulation\n",
    "# Or thery can be retrieved at any time during the simulation\n",
    "# Get the position and rotation of the cameras\n",
    "poses = []\n",
    "rotations = []\n",
    "for i in range(m.cam_user.shape[0]):\n",
    "    # Get the position of the camera\n",
    "    pos = m.cam_pos[i] + m.body(m.cam_bodyid[i]).pos\n",
    "    poses.append(pos)\n",
    "\n",
    "    # Get the rotation of the camera\n",
    "    angle = R.from_quat(m.body(m.cam_bodyid[i]).quat).as_euler('xyz', degrees=True)\n",
    "    rotations.append(angle[0])\n",
    "\n",
    "\n",
    "\n",
    "# Generate point cloud from depth image\n",
    "import point_cloud as pcu\n",
    "\n",
    "point_cloud = pcu.PointCloud((480, 640), 60, downsample=2)\n",
    "\n",
    "mat = point_cloud.get_map(frames, poses, rotations)\n",
    "\n",
    "segemented_mat = point_cloud.get_segmented_map(frames, segments, poses, rotations, m)\n",
    "\n",
    "feature_vectors = point_cloud.get_feature_vectors(segmented_map=segemented_mat)\n",
    "\n",
    "# Save point cloud\n",
    "# np.save(\"point_cloud.npy\", mat)"
   ]
  },
  {
   "cell_type": "code",
   "execution_count": null,
   "metadata": {},
   "outputs": [],
   "source": [
    "feature_vectors"
   ]
  },
  {
   "cell_type": "code",
   "execution_count": null,
   "metadata": {},
   "outputs": [],
   "source": [
    "size = 0\n",
    "for key in segemented_mat:\n",
    "    size += len(segemented_mat[key])\n",
    "\n",
    "print(\"Total -> \", mat.shape)\n",
    "print(\"Segmented -> \", size)"
   ]
  },
  {
   "cell_type": "code",
   "execution_count": null,
   "metadata": {},
   "outputs": [],
   "source": [
    "%matplotlib widget\n",
    "import matplotlib.pyplot as plt\n",
    "from mpl_toolkits.mplot3d import Axes3D\n",
    "\n",
    "# Create a 3D figure\n",
    "fig = plt.figure()\n",
    "ax = fig.add_subplot(projection='3d')\n",
    "\n",
    "# Define the x, y, z coordinates of the point cloud\n",
    "x = mat[:, 0]\n",
    "y = mat[:, 1]\n",
    "z = mat[:, 2]\n",
    "\n",
    "# Plot the point cloud data\n",
    "ax.scatter(x, y, z, s=1)\n",
    "\n",
    "# Set the axis labels\n",
    "ax.set_xlabel('X Label')\n",
    "ax.set_ylabel('Y Label')\n",
    "ax.set_zlabel('Z Label')\n",
    "\n",
    "# Show the plot\n",
    "plt.show()"
   ]
  },
  {
   "cell_type": "code",
   "execution_count": null,
   "metadata": {},
   "outputs": [],
   "source": [
    "%matplotlib widget\n",
    "import matplotlib.pyplot as plt\n",
    "from mpl_toolkits.mplot3d import Axes3D\n",
    "\n",
    "\n",
    "for key in segemented_mat.keys():\n",
    "    mat = np.array(segemented_mat[key])\n",
    "    print(mat.shape)\n",
    "\n",
    "    # Create a 3D figure\n",
    "    fig = plt.figure()\n",
    "    ax = fig.add_subplot(projection='3d')\n",
    "    fig.suptitle(key)\n",
    "\n",
    "    # Define the x, y, z coordinates of the point cloud\n",
    "    x = mat[:, 0]\n",
    "    y = mat[:, 1]\n",
    "    z = mat[:, 2]\n",
    "\n",
    "    # Plot the point cloud data\n",
    "    ax.scatter(x, y, z, s=1)\n",
    "\n",
    "    # Set the axis labels\n",
    "    ax.set_xlabel('X Label')\n",
    "    ax.set_ylabel('Y Label')\n",
    "    ax.set_zlabel('Z Label')\n",
    "\n",
    "    # Show the plot\n",
    "    plt.show()"
   ]
  },
  {
   "cell_type": "markdown",
   "metadata": {},
   "source": [
    "## Generation of the Dataset"
   ]
  },
  {
   "cell_type": "code",
   "execution_count": null,
   "metadata": {},
   "outputs": [],
   "source": [
    "import torch\n",
    "import pandas as pd\n",
    "from torch_geometric.data import Data\n",
    "import numpy as np\n",
    "\n",
    "\n",
    "# Reading from the dataset csv\n",
    "dataset = pd.read_csv('dataset.csv')\n",
    "dataset.head()\n",
    "\n",
    "\n",
    "# Creating the dataset class\n",
    "class MyDataset(Data):\n",
    "    def __init__(self, x, edge_index, y):\n",
    "        super(MyDataset, self).__init__()\n",
    "        self.x = x\n",
    "        self.edge_index = edge_index\n",
    "        self.y = y\n",
    "\n",
    "\n",
    "#  Creating data for the dataset\n",
    "V = np.array(dataset.iloc[:, 2:], dtype='float32')\n",
    "\n",
    "labels = np.array(dataset.iloc[:, 1])\n",
    "for i in range(len(labels)):\n",
    "    if \"human\" in labels[i]:\n",
    "        labels[i] = 1\n",
    "    elif \"robot\" in labels[i]:\n",
    "        labels[i] = 0\n",
    "\n",
    "labels = np.array(labels, dtype='int8')\n",
    "def get_edge_index(V):\n",
    "    edges = [[],[]]\n",
    "\n",
    "    for i in range(V.shape[0]):\n",
    "        for j in range(V.shape[0]):\n",
    "            if i != j:\n",
    "                edges[0].append(i)\n",
    "                edges[1].append(j)\n",
    "\n",
    "    return np.array(edges)\n",
    "\n",
    "edges = get_edge_index(V)\n",
    "\n",
    "#  Creating the dataset as a PyTorch Geometric dataset\n",
    "data = Data(x=torch.from_numpy(V), \n",
    "            edge_index=torch.from_numpy(edges), \n",
    "            y=torch.from_numpy(labels)\n",
    "            )\n",
    "\n",
    "data"
   ]
  },
  {
   "cell_type": "code",
   "execution_count": 2,
   "metadata": {},
   "outputs": [],
   "source": [
    "import open3d as o3d\n",
    "import numpy as np\n",
    "\n",
    "# Generate random point cloud\n",
    "mat = np.random.rand(100, 3)\n",
    "mat = np.concatenate((mat, np.random.rand(100, 3)), axis=0)\n",
    "# Repeat [255,0,0] for every point.\n",
    "colors = np.tile([255,0,0], (100, 1))\n",
    "colors = np.concatenate((colors, np.tile([0,255,0], (100, 1))), axis=0)\n",
    "pcd = o3d.geometry.PointCloud()\n",
    "pcd.points = o3d.utility.Vector3dVector(mat)\n",
    "pcd.colors = o3d.utility.Vector3dVector(colors)\n",
    "\n",
    "o3d.visualization.draw_geometries([pcd])"
   ]
  },
  {
   "cell_type": "code",
   "execution_count": 4,
   "metadata": {},
   "outputs": [
    {
     "name": "stdout",
     "output_type": "stream",
     "text": [
      "[[217.125 221.625  39.375]\n",
      " [ 13.5   117.    274.5  ]\n",
      " [ 36.     90.    274.5  ]\n",
      " [220.5   218.25  151.875]\n",
      " [ 41.625 150.75  165.375]\n",
      " [207.    237.375   9.   ]\n",
      " [204.75   97.875 205.875]\n",
      " [ 81.    202.5     2.25 ]\n",
      " [ 38.25   87.75   90.   ]\n",
      " [190.125 127.125  84.375]]\n"
     ]
    }
   ],
   "source": [
    "import numpy as np\n",
    "\n",
    "def generate_random_rgb_values(n):\n",
    "  \"\"\"Generates n random equally spaced RGB values.\n",
    "\n",
    "  Args:\n",
    "    n: The number of RGB values to generate.\n",
    "\n",
    "  Returns:\n",
    "    A numpy array of shape (n, 3) containing the RGB values.\n",
    "  \"\"\"\n",
    "\n",
    "  # Generate a random array of values between 0 and 255.\n",
    "  rgb_values = np.random.randint(0, 256, size=(n, 3))\n",
    "\n",
    "  # Normalize the values to be between 0 and 1.\n",
    "  rgb_values = rgb_values / 255.0\n",
    "\n",
    "  # Equally space the RGB values.\n",
    "  rgb_values = rgb_values * (n - 1) / (n - 2)\n",
    "\n",
    "  return rgb_values\n",
    "\n",
    "# Generate 10 random equally spaced RGB values.\n",
    "rgb_values = generate_random_rgb_values(10) * 255\n",
    "\n",
    "# Print the RGB values.\n",
    "print(rgb_values)"
   ]
  },
  {
   "cell_type": "code",
   "execution_count": null,
   "metadata": {},
   "outputs": [],
   "source": []
  }
 ],
 "metadata": {
  "kernelspec": {
   "display_name": "mujoco-venv",
   "language": "python",
   "name": "python3"
  },
  "language_info": {
   "codemirror_mode": {
    "name": "ipython",
    "version": 3
   },
   "file_extension": ".py",
   "mimetype": "text/x-python",
   "name": "python",
   "nbconvert_exporter": "python",
   "pygments_lexer": "ipython3",
   "version": "3.10.13"
  },
  "orig_nbformat": 4
 },
 "nbformat": 4,
 "nbformat_minor": 2
}
